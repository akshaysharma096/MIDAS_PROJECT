{
 "cells": [
  {
   "cell_type": "markdown",
   "metadata": {},
   "source": [
    "# Image Classifier - MIDAS INTERNSHIP CHALLENGE"
   ]
  },
  {
   "cell_type": "code",
   "execution_count": 51,
   "metadata": {},
   "outputs": [],
   "source": [
    "%reload_ext autoreload\n",
    "%autoreload 2\n",
    "%matplotlib inline"
   ]
  },
  {
   "cell_type": "markdown",
   "metadata": {},
   "source": [
    "## Explanation - 1\n",
    "The following code is used to import the our 3rd Party Deep Learning Libraries like *Pytorch* as well as checks, if the GPU is set or not.\n",
    "\n",
    "<img src =\"https://cdn-images-1.medium.com/max/2600/1*aqNgmfyBIStLrf9k7d9cng.jpeg\"/>"
   ]
  },
  {
   "cell_type": "code",
   "execution_count": 52,
   "metadata": {},
   "outputs": [
    {
     "name": "stdout",
     "output_type": "stream",
     "text": [
      "Device is usage: cuda:0\n"
     ]
    }
   ],
   "source": [
    "from fastai.vision import *\n",
    "from fastai.metrics import error_rate\n",
    "from lr_finder import LRFinder\n",
    "import pandas as pd\n",
    "import time\n",
    "from torch.utils.data.sampler import SubsetRandomSampler\n",
    "import os\n",
    "from torch.autograd import Variable\n",
    "import matplotlib.image as mpimg\n",
    "from PIL import Image\n",
    "import torch\n",
    "import copy\n",
    "from torch.utils.data.dataset import Dataset\n",
    "from torch.utils.data import DataLoader\n",
    "import torch\n",
    "import torchvision\n",
    "import torchvision.transforms as transforms\n",
    "import torch.nn.functional as F\n",
    "from torch import nn, optim\n",
    "import torch.optim as optim\n",
    "import numpy as np\n",
    "import torch\n",
    "import pickle\n",
    "import os\n",
    "import torchvision\n",
    "use_cuda = torch.cuda.is_available()\n",
    "device = torch.device(\"cuda:0\" if use_cuda else \"cpu\")\n",
    "print(\"Device is usage: {0}\".format(device))"
   ]
  },
  {
   "cell_type": "markdown",
   "metadata": {},
   "source": [
    "## Explanation 2\n",
    "\n",
    "### Intuition\n",
    "The code block below defines few global variables that we would like to take care of, for example the batch size for our Deep Learning Pipeline as well as the paths of the training data/labels as well as the test_data"
   ]
  },
  {
   "cell_type": "code",
   "execution_count": 53,
   "metadata": {},
   "outputs": [
    {
     "data": {
      "text/plain": [
       "<torch._C.Generator at 0x7feae61209f0>"
      ]
     },
     "execution_count": 53,
     "metadata": {},
     "output_type": "execute_result"
    }
   ],
   "source": [
    "data_path = \"./data\"\n",
    "train_images_path = \"{0}/train_image.pkl\".format(data_path)\n",
    "test_images_path = \"{0}/test_image.pkl\".format(data_path)\n",
    "train_labels_path = \"{0}/train_label.pkl\".format(data_path)\n",
    "sanitized_labels_path = \"{0}/train_labels_sanitized.pkl\".format(data_path)\n",
    "batch_size = 64\n",
    "random_seed = 43\n",
    "validation_split = 0.2\n",
    "shuffle_dataset = True\n",
    "torch.manual_seed(random_seed)"
   ]
  },
  {
   "cell_type": "code",
   "execution_count": 54,
   "metadata": {},
   "outputs": [
    {
     "data": {
      "text/plain": [
       "[True, True, True]"
      ]
     },
     "execution_count": 54,
     "metadata": {},
     "output_type": "execute_result"
    }
   ],
   "source": [
    "def path_exists(path):\n",
    "    \"\"\"\n",
    "     Function to verfiy if, file path defined is correct\n",
    "    \"\"\"\n",
    "    return os.path.exists(path)\n",
    "\n",
    "valid_path = [path_exists(_) for _ in (train_images_path, test_images_path, train_labels_path)]\n",
    "valid_path"
   ]
  },
  {
   "cell_type": "code",
   "execution_count": 55,
   "metadata": {},
   "outputs": [
    {
     "data": {
      "text/plain": [
       "True"
      ]
     },
     "execution_count": 55,
     "metadata": {},
     "output_type": "execute_result"
    }
   ],
   "source": [
    "def sanitize_labels(labels_path):\n",
    "    \"\"\"\n",
    "        The labels given in the file are 0, 2, 3, 6\n",
    "        Each label should be mapped to required class, as 0 -> 0, 2 -> 2, 3 -> 2, 6 -> 3\n",
    "    \"\"\"\n",
    "    mapping = {0: 0, 2: 1, 3: 2, 6: 3}\n",
    "    with open(labels_path, 'rb') as file:\n",
    "        data = pickle.load(file)\n",
    "    result = [mapping[i] for i in data]\n",
    "    return result\n",
    "\n",
    "result = sanitize_labels(train_labels_path)\n",
    "\n",
    "with open(sanitized_labels_path, \"wb\") as file:\n",
    "    pickle.dump(result, file)\n",
    "\n",
    "path_exists(sanitized_labels_path)"
   ]
  },
  {
   "cell_type": "markdown",
   "metadata": {},
   "source": [
    "## Deep Learning Pipeline - Data Pre-processing\n",
    "\n",
    "<img src=\"https://cdn-images-1.medium.com/max/1200/1*ZX05x1xYgaVoa4Vn2kKS9g.png\" />\n",
    "\n",
    "### What's happening ?\n",
    "In the code block we have defined a basic class which takes care of our pre-processing pipeline.\n",
    "\n",
    "#### Why did we **inherit** the `Dataset`  class ?\n",
    "We are using PyTorch as our DeepLearning framework, PyTorch provides a very simple API to build the Deep Learnign PipeLine, we can do make our own pipeline by inheriting the **Dataset** class, which has internal methods to take of the things we need to take care of pre-processing.\n",
    "\n",
    "Here in our case I have divided the pipelin in the following parts.\n",
    "- Load data from pickle dump.\n",
    "- Build an API to *clean the data*, or arrange the data in a format that PyTorch understands, this has been done by the `__getitem__()` function.\n",
    "    - This functions iteratively returns a single dataset and the following label for our Neural Net to work on. \n",
    "- We also incorporate transformations in the class, which helps us normalising our data.\n",
    "    - **Normalising** input data is important, as this helps *Gradient Descent* to run faster, which means we can use a higher learning rate for our Neural Network, this helps us the reacht the minima faster, the contour of the cost functions are symmetrical when data is normalised.\n"
   ]
  },
  {
   "cell_type": "code",
   "execution_count": 56,
   "metadata": {},
   "outputs": [],
   "source": [
    "class DataSetLoader(Dataset):\n",
    "    '''Dataset Loader'''\n",
    "    def __init__(self, train_path, labels_path, transform=None, train=True, target_transform=None):\n",
    "        \"\"\"\n",
    "        Args:\n",
    "            train_path (string): Path to the training data file\n",
    "            labels_path (string): Path to the labels present for the training data\n",
    "            transform (callable): Optional transform to apply to sample\n",
    "        \"\"\"\n",
    "        self.train=train\n",
    "        if self.train:\n",
    "            data = self._load_from_pickle(train_path)\n",
    "            self.train_data = torch.ByteTensor(data).view(-1, 28, 28) \n",
    "            self.train_labels = self._load_from_pickle(labels_path)\n",
    "        else:\n",
    "            data = self._load_from_pickle(train_path)\n",
    "            self.test_data = torch.ByteTensor(data).view(-1, 28, 28) \n",
    "            self.test_lables = []\n",
    "            \n",
    "        del data\n",
    "        self.transform = transform\n",
    "        self.target_transform = target_transform\n",
    "        \n",
    "    def __len__(self):\n",
    "        \"\"\"\n",
    "         Returns the length of whole Dataset fed into the Neural Net.\n",
    "        \"\"\"\n",
    "        if self.train:\n",
    "            return len(self.train_data)\n",
    "        else:\n",
    "            return len(self.test_data)\n",
    "    \n",
    "    def __getitem__(self, index):\n",
    "        \"\"\"\n",
    "         Returns a single training/test example after applying the required normalisation/transformations techniques.\n",
    "         As well as the label.\n",
    "         \n",
    "         ret: (image, label)\n",
    "        \"\"\"\n",
    "        if self.train:\n",
    "            img, target = self.train_data[index], self.train_labels[index]\n",
    "        else:\n",
    "            img, target = self.test_data[index], self.test_labels[index]\n",
    "\n",
    "        # return a PIL Image\n",
    "        img = Image.fromarray(img.numpy(), mode='L')\n",
    "\n",
    "        if self.transform is not None:\n",
    "            img = self.transform(img)\n",
    "        if self.target_transform is not None:\n",
    "            target = self.target_transform(target)\n",
    "            \n",
    "        return img, target\n",
    "    \n",
    "    def _load_from_pickle(self, file_path):\n",
    "        \"\"\"\n",
    "         file_path: File path to load data, returns an ndarray\n",
    "         \n",
    "         ret: Loaded dump, in primitive data format.\n",
    "        \"\"\"\n",
    "        with open(file_path, 'rb') as file:\n",
    "            data = pickle.load(file)\n",
    "        return data\n",
    "    \n",
    "    def get_labels(self):\n",
    "        \"\"\"\n",
    "         Return an array of labels present in the data set.\n",
    "        \"\"\"\n",
    "        if self.train:\n",
    "            return np.unique(self.train_labels)\n",
    "        return []\n",
    "    \n",
    "    def visualise_data_set(self):\n",
    "        \"\"\"\n",
    "         Utility function to randomly display images from the dataset\n",
    "        \"\"\"\n",
    "        fig = plt.figure(figsize=(8,8))\n",
    "        columns = 4\n",
    "        rows = 5\n",
    "        if self.train:\n",
    "            data_set = self.train_data\n",
    "        else:\n",
    "            data_set = self.test_data\n",
    "        for i in range(1, columns * rows +1):\n",
    "            img_xy = np.random.randint(len(data_set));\n",
    "            img = data_set[img_xy][0][0,:,:]\n",
    "            fig.add_subplot(rows, columns, i)\n",
    "            plt.title(labels_map[data_set[img_xy][1]])\n",
    "            plt.axis('off')\n",
    "            plt.imshow(img)\n",
    "        \n",
    "        plt.show()            "
   ]
  },
  {
   "cell_type": "code",
   "execution_count": 57,
   "metadata": {},
   "outputs": [],
   "source": [
    "# Creating a labels map for storing the labels\n",
    "\n",
    "\n",
    "# Define the normalisation/tranformation techniques we need during pre-processing.\n",
    "img_transforms = transforms.Compose([transforms.ToTensor(),\n",
    "                               transforms.Normalize((0.5,0.5,0.5), (0.5,0.5,0.5))])"
   ]
  },
  {
   "cell_type": "code",
   "execution_count": 58,
   "metadata": {},
   "outputs": [],
   "source": [
    "# Create training and test data sets.\n",
    "train_dataset = DataSetLoader(train_images_path, sanitized_labels_path, train=True, transform=img_transforms)\n",
    "test_dataset = DataSetLoader(test_images_path, \"\", train=False, transform=img_transforms)\n",
    "\n",
    "dataset_size = len(train_dataset)\n",
    "indices = list(range(dataset_size))\n",
    "split = int(np.floor(validation_split * dataset_size))\n",
    "\n",
    "if shuffle_dataset :\n",
    "    np.random.seed(random_seed)\n",
    "    np.random.shuffle(indices)\n",
    "    \n",
    "train_indices, val_indices = indices[split:], indices[:split]\n",
    "\n",
    "train_sampler = SubsetRandomSampler(train_indices)\n",
    "valid_sampler = SubsetRandomSampler(val_indices)"
   ]
  },
  {
   "cell_type": "markdown",
   "metadata": {},
   "source": [
    "## Looking at the data\n",
    "\n",
    "The following code blocks gives us some insights about what kind of images our data set has.\n",
    "By looking at the training set, we have 4 labels, *0, 2 ,3, 6*, these labels are numerically labelled in our training labelled data set.\n",
    "\n",
    "Just for readibilty I have created a dictionary of mapping each numerical label to a physical label, like *Shirt*, *T-Shirt* etc.\n",
    "\n",
    "```\n",
    "labels = train_dataset.get_labels()\n",
    "```\n",
    "The code above gives us the unique labels present in our training data.\n",
    "```\n",
    "labels_map = {0 : 'T-Shirt', 2 : 'Pullover', 3 : 'Dress', 6 : 'Shirt'}\n",
    "```\n",
    "Initialises a dictionary to map each numerical label to a physical entity."
   ]
  },
  {
   "cell_type": "code",
   "execution_count": 59,
   "metadata": {},
   "outputs": [
    {
     "name": "stdout",
     "output_type": "stream",
     "text": [
      "Label: 0, value: T-Shirt\n",
      "Label: 1, value: Pullover\n",
      "Label: 2, value: Dress\n",
      "Label: 3, value: Shirt\n"
     ]
    }
   ],
   "source": [
    "labels = train_dataset.get_labels()\n",
    "labels_map = {0 : 'T-Shirt', 1 : 'Pullover', 2 : 'Dress', 3 : 'Shirt'}\n",
    "for label in labels:\n",
    "    print(\"Label: {0}, value: {1}\".format(label, labels_map[label]))"
   ]
  },
  {
   "cell_type": "code",
   "execution_count": 60,
   "metadata": {},
   "outputs": [
    {
     "name": "stderr",
     "output_type": "stream",
     "text": [
      "/opt/conda/envs/fastai/lib/python3.6/site-packages/matplotlib/font_manager.py:1241: UserWarning: findfont: Font family ['xkcd', 'Humor Sans', 'Comic Sans MS'] not found. Falling back to DejaVu Sans.\n",
      "  (prop.get_family(), self.defaultFamily[fontext]))\n"
     ]
    },
    {
     "data": {
      "image/png": "[encoded data removed]",
      "text/plain": [
       "<Figure size 576x576 with 20 Axes>"
      ]
     },
     "metadata": {
      "needs_background": "light"
     },
     "output_type": "display_data"
    }
   ],
   "source": [
    "fig = plt.figure(figsize=(8,8));\n",
    "columns = 4;\n",
    "rows = 5;\n",
    "for i in range(1, columns*rows +1):\n",
    "    img_xy = np.random.randint(len(train_dataset));\n",
    "    img = train_dataset[img_xy][0][0,:,:]\n",
    "    fig.add_subplot(rows, columns, i)\n",
    "    plt.title(labels_map[train_dataset[img_xy][1]])\n",
    "    plt.axis('off')\n",
    "    plt.imshow(img)\n",
    "plt.show()\n"
   ]
  },
  {
   "cell_type": "markdown",
   "metadata": {},
   "source": [
    "### Explanation of code block below\n",
    "\n",
    "For our data pre-processing we have cleaned our data, applied required transformations, as well as wrote a simple API that allows us to do the steps gracefully.\n",
    "What we need now is another API which can help us in iterating over our training/test datasets efficiently.\n",
    "\n",
    "The following code does the same, **DataLoader** class provides us with an *Python* `iterator` object which allows for traverse over our dataset very efficiently, in specific batch size we want.\n",
    "\n",
    "```\n",
    "for i_batch, sample_batched in enumerate(trainloader):\n",
    "    do_something(sample_batched)\n",
    "```\n",
    "\n",
    "Since trainloader is an iterator we can easily now iterate over our data set, you can also the see the code example above.\n",
    "\n",
    "#### What's my intuition behind this ?\n",
    "\n",
    "The most basic intuition in making an iterator here is we need to carry the basic Neural Net operations: \n",
    "  - Forward Propagation \n",
    "  - Backward Propagation\n",
    "\n",
    "Since we want to carry out **Mini Batch Gradient Descent** for our Neural Network to learn the hyper-params, we are using this iterator to automatically create the required batches."
   ]
  },
  {
   "cell_type": "code",
   "execution_count": 61,
   "metadata": {},
   "outputs": [],
   "source": [
    "\"\"\"\n",
    "    We built our data set using DataSetLoader class we defined above, now we need the the following operations\n",
    "    1. Divide our dataset the into the batch sizes.\n",
    "    2. Shuffle the dataset accordingly for randomness.\n",
    "\"\"\"\n",
    "trainloader = torch.utils.data.DataLoader(dataset=train_dataset, batch_size=batch_size,\n",
    "                                           sampler=train_sampler, num_workers=2)\n",
    "\n",
    "validationloader = torch.utils.data.DataLoader(dataset=train_dataset,batch_size=batch_size,\n",
    "                                           sampler=valid_sampler, num_workers=2)\n",
    "\n",
    "testloader = torch.utils.data.DataLoader(dataset=test_dataset,\n",
    "                                          batch_size=batch_size,\n",
    "                                          shuffle=True, num_workers=2)"
   ]
  },
  {
   "cell_type": "markdown",
   "metadata": {},
   "source": [
    "## Model Creation\n",
    "\n",
    "### What is code block doing ?\n",
    "The code block below defines the architecture of a Convolutional Neural Network. Our input is an image of dimension, (28 x 28), usually images have 3 channels, **RED, BLUE AND GREEN**, but in the current data set we have only 1 channel, due to this we initialise our Convolutional Layer accordingly.\n",
    "\n",
    "In the first Convolutional block of our CNN we use only a single channel that is 1, becaue input image has only 1 channel.\n",
    "```\n",
    "class CNN(nn.Module):\n",
    "    def __init__(self):\n",
    "     .....\n",
    "     nn.Conv2d(1, 16, kernel_size=4, padding=2)\n",
    "     .....\n",
    "```\n",
    "\n",
    "Similarly.\n",
    "\n",
    "```\n",
    "class CNN(nn.Module):\n",
    "\n",
    "    def __init__(self):\n",
    "        .....\n",
    "        nn.Conv2d(16, 32, kernel_size=6, padding=2),\n",
    "        ....\n",
    "```\n",
    "In the second Convolutional Block, the number of input channels are 16 as the number of channels that will be received from CNN block 1 are 16.\n",
    "\n",
    "The code block above specifies that our Convolutional Blocks have a padding of 2 and kernel size of 5.\n",
    "\n",
    "### My Intuition\n",
    "\n",
    "The basic intuition behind the CNN architecture is to involve techniques like Batch Normalization and Regularisation techniques like Dropout, on one hand, as well know Gradient Descent will converge to a minima for the training set, \n",
    "but if the number of epochs are high, then this can lead to overfitting, therefore:\n",
    "   - Dropout helps in regularising our weights to reduce overfitting, I have kept the probability of regularisation as 0.5\n",
    "   - Batch Normalization smoothens the loss landscape and thus allows to converge faster to minima, using Gradient Descent.\n",
    "   \n",
    "As we will see the CNN architecture helps us to reduce overfitting and get the right balance of validation and training loss."
   ]
  },
  {
   "cell_type": "code",
   "execution_count": 64,
   "metadata": {},
   "outputs": [],
   "source": [
    "class CNN(nn.Module):\n",
    "    \"\"\"\n",
    "        CNN architecture:\n",
    "        CONV -> BatchNorm -> Relu -> MaxPool -> CONV -> BatchNorm -> Relu -> Dropout -> MaxPool -> Linear -> Output\n",
    "    \"\"\"\n",
    "    def __init__(self):\n",
    "        super(CNN, self).__init__()\n",
    "        self.layer1 = nn.Sequential(\n",
    "            nn.Conv2d(1, 16, kernel_size=5, padding=2),\n",
    "            nn.BatchNorm2d(16),\n",
    "            nn.ReLU(),\n",
    "            nn.MaxPool2d(2))\n",
    "        self.layer2 = nn.Sequential(\n",
    "            nn.Conv2d(16, 32, kernel_size=6, padding=2),\n",
    "            nn.BatchNorm2d(32),\n",
    "            nn.ReLU(),\n",
    "            nn.Dropout2d(p=0.5),\n",
    "            nn.MaxPool2d(2))\n",
    "        self.fc = nn.Linear(7*7*32, 4)\n",
    "        \n",
    "    def forward(self, x):\n",
    "        out = self.layer1(x)\n",
    "        out = self.layer2(out)\n",
    "        out = out.view(out.size(0), -1)\n",
    "        out = self.fc(out)\n",
    "        return out"
   ]
  },
  {
   "cell_type": "code",
   "execution_count": 66,
   "metadata": {},
   "outputs": [],
   "source": [
    "class ModelRunner:\n",
    "    \"\"\"\n",
    "        Class to abstract how we train our model on training and validation data sets.\n",
    "    \"\"\"\n",
    "    def __init__(self, learning_rate, epochs):\n",
    "        self.learning_rate = learning_rate\n",
    "        self.epochs = epochs\n",
    "        self.training_losses = []\n",
    "        self.validation_losses = []\n",
    "    \n",
    "    def initialise_model(self):\n",
    "        self.model = CNN().cuda()\n",
    "        self.criterion = nn.CrossEntropyLoss().cuda()\n",
    "        self.optimizer = torch.optim.Adam(self.model.parameters(), lr=self.learning_rate)\n",
    "    \n",
    "    def run_model(self):\n",
    "        self.initialise_model()\n",
    "        print(\"-------Running Model, with rate: {0} and epochs: {1} -------\".format(self.learning_rate, self.epochs))\n",
    "        for epoch in range(self.epochs):\n",
    "            for i, (images, labels) in enumerate(trainloader):\n",
    "                images = Variable(images.cuda().float())\n",
    "                labels = Variable(labels.cuda())\n",
    "                self.optimizer.zero_grad()\n",
    "                outputs = self.model(images)\n",
    "                loss = self.criterion(outputs, labels)\n",
    "                loss.backward()\n",
    "                self.optimizer.step()\n",
    "                self.training_losses.append(loss.data.item())\n",
    "        \n",
    "                if (i+1) % 100 == 0:\n",
    "                    print('Epoch : %d/%d, Iter : %d/%d, Training Loss: %.4f' \n",
    "                       %(epoch+1, self.epochs, i+1, len(train_dataset)//batch_size, loss.data.item()))\n",
    "        \n",
    "        for i, (images, labels) in enumerate(validationloader):\n",
    "            with torch.no_grad():\n",
    "                images = Variable(images.cuda().float())\n",
    "                labels = Variable(labels.cuda())\n",
    "                outputs = self.model(images)\n",
    "                loss = self.criterion(outputs, labels)\n",
    "                self.validation_losses.append(loss.data.item())\n",
    "        self.plot_losses()\n",
    "        print(\"\\n \\n\")\n",
    "        return self.model\n",
    "    \n",
    "    def plot_losses(self):\n",
    "        plt.xkcd()\n",
    "        plt.xlabel('Epoch #')\n",
    "        plt.ylabel('Loss')\n",
    "        plt.plot(self.training_losses[::100], label=\"Training loss\")\n",
    "        plt.legend()\n",
    "        plt.title(\"Loss for rate: {0} and epochs: {1}\".format(self.learning_rate, self.epochs))"
   ]
  },
  {
   "cell_type": "code",
   "execution_count": 16,
   "metadata": {},
   "outputs": [
    {
     "name": "stdout",
     "output_type": "stream",
     "text": [
      "-------Running Model, with rate: 0.001 and epochs: 10 -------\n",
      "Epoch : 1/10, Iter : 100/125, Training Loss: 0.4919\n",
      "Epoch : 2/10, Iter : 100/125, Training Loss: 0.5403\n",
      "Epoch : 3/10, Iter : 100/125, Training Loss: 0.3268\n",
      "Epoch : 4/10, Iter : 100/125, Training Loss: 0.3498\n",
      "Epoch : 5/10, Iter : 100/125, Training Loss: 0.4287\n",
      "Epoch : 6/10, Iter : 100/125, Training Loss: 0.3729\n",
      "Epoch : 7/10, Iter : 100/125, Training Loss: 0.1661\n",
      "Epoch : 8/10, Iter : 100/125, Training Loss: 0.1704\n",
      "Epoch : 9/10, Iter : 100/125, Training Loss: 0.5317\n",
      "Epoch : 10/10, Iter : 100/125, Training Loss: 0.3999\n",
      "\n",
      " \n",
      "\n",
      "-------Running Model, with rate: 0.001 and epochs: 20 -------\n",
      "Epoch : 1/20, Iter : 100/125, Training Loss: 0.6144\n",
      "Epoch : 2/20, Iter : 100/125, Training Loss: 0.6584\n",
      "Epoch : 3/20, Iter : 100/125, Training Loss: 0.5467\n",
      "Epoch : 4/20, Iter : 100/125, Training Loss: 0.2899\n",
      "Epoch : 5/20, Iter : 100/125, Training Loss: 0.1913\n",
      "Epoch : 6/20, Iter : 100/125, Training Loss: 0.4728\n",
      "Epoch : 7/20, Iter : 100/125, Training Loss: 0.3056\n",
      "Epoch : 8/20, Iter : 100/125, Training Loss: 0.4245\n",
      "Epoch : 9/20, Iter : 100/125, Training Loss: 0.5265\n",
      "Epoch : 10/20, Iter : 100/125, Training Loss: 0.4112\n",
      "Epoch : 11/20, Iter : 100/125, Training Loss: 0.2682\n",
      "Epoch : 12/20, Iter : 100/125, Training Loss: 0.4031\n",
      "Epoch : 13/20, Iter : 100/125, Training Loss: 0.2899\n",
      "Epoch : 14/20, Iter : 100/125, Training Loss: 0.1640\n",
      "Epoch : 15/20, Iter : 100/125, Training Loss: 0.2918\n",
      "Epoch : 16/20, Iter : 100/125, Training Loss: 0.4224\n",
      "Epoch : 17/20, Iter : 100/125, Training Loss: 0.2852\n",
      "Epoch : 18/20, Iter : 100/125, Training Loss: 0.2137\n",
      "Epoch : 19/20, Iter : 100/125, Training Loss: 0.2978\n",
      "Epoch : 20/20, Iter : 100/125, Training Loss: 0.3711\n",
      "\n",
      " \n",
      "\n",
      "-------Running Model, with rate: 0.001 and epochs: 30 -------\n",
      "Epoch : 1/30, Iter : 100/125, Training Loss: 0.6049\n",
      "Epoch : 2/30, Iter : 100/125, Training Loss: 0.6465\n",
      "Epoch : 3/30, Iter : 100/125, Training Loss: 0.4557\n",
      "Epoch : 4/30, Iter : 100/125, Training Loss: 0.3459\n",
      "Epoch : 5/30, Iter : 100/125, Training Loss: 0.3865\n",
      "Epoch : 6/30, Iter : 100/125, Training Loss: 0.4727\n",
      "Epoch : 7/30, Iter : 100/125, Training Loss: 0.2797\n",
      "Epoch : 8/30, Iter : 100/125, Training Loss: 0.2869\n",
      "Epoch : 9/30, Iter : 100/125, Training Loss: 0.3473\n",
      "Epoch : 10/30, Iter : 100/125, Training Loss: 0.3719\n",
      "Epoch : 11/30, Iter : 100/125, Training Loss: 0.3321\n",
      "Epoch : 12/30, Iter : 100/125, Training Loss: 0.3500\n",
      "Epoch : 13/30, Iter : 100/125, Training Loss: 0.2735\n",
      "Epoch : 14/30, Iter : 100/125, Training Loss: 0.2752\n",
      "Epoch : 15/30, Iter : 100/125, Training Loss: 0.1995\n",
      "Epoch : 16/30, Iter : 100/125, Training Loss: 0.1912\n",
      "Epoch : 17/30, Iter : 100/125, Training Loss: 0.2431\n",
      "Epoch : 18/30, Iter : 100/125, Training Loss: 0.2427\n",
      "Epoch : 19/30, Iter : 100/125, Training Loss: 0.1889\n",
      "Epoch : 20/30, Iter : 100/125, Training Loss: 0.1569\n",
      "Epoch : 21/30, Iter : 100/125, Training Loss: 0.1330\n",
      "Epoch : 22/30, Iter : 100/125, Training Loss: 0.1569\n",
      "Epoch : 23/30, Iter : 100/125, Training Loss: 0.1786\n",
      "Epoch : 24/30, Iter : 100/125, Training Loss: 0.2157\n",
      "Epoch : 25/30, Iter : 100/125, Training Loss: 0.1761\n",
      "Epoch : 26/30, Iter : 100/125, Training Loss: 0.2361\n",
      "Epoch : 27/30, Iter : 100/125, Training Loss: 0.1788\n",
      "Epoch : 28/30, Iter : 100/125, Training Loss: 0.2187\n",
      "Epoch : 29/30, Iter : 100/125, Training Loss: 0.2419\n",
      "Epoch : 30/30, Iter : 100/125, Training Loss: 0.1473\n",
      "\n",
      " \n",
      "\n",
      "-------Running Model, with rate: 0.001 and epochs: 40 -------\n",
      "Epoch : 1/40, Iter : 100/125, Training Loss: 0.4266\n",
      "Epoch : 2/40, Iter : 100/125, Training Loss: 0.4525\n",
      "Epoch : 3/40, Iter : 100/125, Training Loss: 0.4316\n",
      "Epoch : 4/40, Iter : 100/125, Training Loss: 0.3351\n",
      "Epoch : 5/40, Iter : 100/125, Training Loss: 0.4717\n",
      "Epoch : 6/40, Iter : 100/125, Training Loss: 0.2806\n",
      "Epoch : 7/40, Iter : 100/125, Training Loss: 0.4912\n",
      "Epoch : 8/40, Iter : 100/125, Training Loss: 0.2743\n",
      "Epoch : 9/40, Iter : 100/125, Training Loss: 0.3619\n",
      "Epoch : 10/40, Iter : 100/125, Training Loss: 0.3871\n",
      "Epoch : 11/40, Iter : 100/125, Training Loss: 0.5093\n",
      "Epoch : 12/40, Iter : 100/125, Training Loss: 0.3725\n",
      "Epoch : 13/40, Iter : 100/125, Training Loss: 0.2118\n",
      "Epoch : 14/40, Iter : 100/125, Training Loss: 0.2200\n",
      "Epoch : 15/40, Iter : 100/125, Training Loss: 0.1830\n",
      "Epoch : 16/40, Iter : 100/125, Training Loss: 0.3671\n",
      "Epoch : 17/40, Iter : 100/125, Training Loss: 0.2456\n",
      "Epoch : 18/40, Iter : 100/125, Training Loss: 0.2844\n",
      "Epoch : 19/40, Iter : 100/125, Training Loss: 0.2041\n",
      "Epoch : 20/40, Iter : 100/125, Training Loss: 0.2133\n",
      "Epoch : 21/40, Iter : 100/125, Training Loss: 0.2372\n",
      "Epoch : 22/40, Iter : 100/125, Training Loss: 0.1094\n",
      "Epoch : 23/40, Iter : 100/125, Training Loss: 0.2824\n",
      "Epoch : 24/40, Iter : 100/125, Training Loss: 0.4582\n",
      "Epoch : 25/40, Iter : 100/125, Training Loss: 0.2499\n",
      "Epoch : 26/40, Iter : 100/125, Training Loss: 0.1850\n",
      "Epoch : 27/40, Iter : 100/125, Training Loss: 0.2320\n",
      "Epoch : 28/40, Iter : 100/125, Training Loss: 0.2195\n",
      "Epoch : 29/40, Iter : 100/125, Training Loss: 0.1690\n",
      "Epoch : 30/40, Iter : 100/125, Training Loss: 0.2672\n",
      "Epoch : 31/40, Iter : 100/125, Training Loss: 0.1460\n",
      "Epoch : 32/40, Iter : 100/125, Training Loss: 0.1219\n",
      "Epoch : 33/40, Iter : 100/125, Training Loss: 0.1367\n",
      "Epoch : 34/40, Iter : 100/125, Training Loss: 0.2071\n",
      "Epoch : 35/40, Iter : 100/125, Training Loss: 0.1490\n",
      "Epoch : 36/40, Iter : 100/125, Training Loss: 0.1199\n",
      "Epoch : 37/40, Iter : 100/125, Training Loss: 0.0542\n",
      "Epoch : 38/40, Iter : 100/125, Training Loss: 0.2070\n",
      "Epoch : 39/40, Iter : 100/125, Training Loss: 0.0988\n",
      "Epoch : 40/40, Iter : 100/125, Training Loss: 0.0606\n",
      "\n",
      " \n",
      "\n",
      "-------Running Model, with rate: 0.001 and epochs: 50 -------\n",
      "Epoch : 1/50, Iter : 100/125, Training Loss: 0.6315\n",
      "Epoch : 2/50, Iter : 100/125, Training Loss: 0.4448\n",
      "Epoch : 3/50, Iter : 100/125, Training Loss: 0.4072\n",
      "Epoch : 4/50, Iter : 100/125, Training Loss: 0.3151\n",
      "Epoch : 5/50, Iter : 100/125, Training Loss: 0.5273\n",
      "Epoch : 6/50, Iter : 100/125, Training Loss: 0.2920\n",
      "Epoch : 7/50, Iter : 100/125, Training Loss: 0.4175\n",
      "Epoch : 8/50, Iter : 100/125, Training Loss: 0.2865\n",
      "Epoch : 9/50, Iter : 100/125, Training Loss: 0.4013\n",
      "Epoch : 10/50, Iter : 100/125, Training Loss: 0.4284\n",
      "Epoch : 11/50, Iter : 100/125, Training Loss: 0.2213\n",
      "Epoch : 12/50, Iter : 100/125, Training Loss: 0.3371\n",
      "Epoch : 13/50, Iter : 100/125, Training Loss: 0.4931\n",
      "Epoch : 14/50, Iter : 100/125, Training Loss: 0.3761\n",
      "Epoch : 15/50, Iter : 100/125, Training Loss: 0.4356\n",
      "Epoch : 16/50, Iter : 100/125, Training Loss: 0.2313\n",
      "Epoch : 17/50, Iter : 100/125, Training Loss: 0.2522\n",
      "Epoch : 18/50, Iter : 100/125, Training Loss: 0.1461\n",
      "Epoch : 19/50, Iter : 100/125, Training Loss: 0.2154\n",
      "Epoch : 20/50, Iter : 100/125, Training Loss: 0.2434\n",
      "Epoch : 21/50, Iter : 100/125, Training Loss: 0.1952\n",
      "Epoch : 22/50, Iter : 100/125, Training Loss: 0.1119\n",
      "Epoch : 23/50, Iter : 100/125, Training Loss: 0.1233\n",
      "Epoch : 24/50, Iter : 100/125, Training Loss: 0.2562\n",
      "Epoch : 25/50, Iter : 100/125, Training Loss: 0.1868\n",
      "Epoch : 26/50, Iter : 100/125, Training Loss: 0.2992\n",
      "Epoch : 27/50, Iter : 100/125, Training Loss: 0.2291\n",
      "Epoch : 28/50, Iter : 100/125, Training Loss: 0.2227\n",
      "Epoch : 29/50, Iter : 100/125, Training Loss: 0.1791\n",
      "Epoch : 30/50, Iter : 100/125, Training Loss: 0.1041\n",
      "Epoch : 31/50, Iter : 100/125, Training Loss: 0.1987\n",
      "Epoch : 32/50, Iter : 100/125, Training Loss: 0.2117\n",
      "Epoch : 33/50, Iter : 100/125, Training Loss: 0.1781\n",
      "Epoch : 34/50, Iter : 100/125, Training Loss: 0.2588\n",
      "Epoch : 35/50, Iter : 100/125, Training Loss: 0.1524\n",
      "Epoch : 36/50, Iter : 100/125, Training Loss: 0.1626\n",
      "Epoch : 37/50, Iter : 100/125, Training Loss: 0.1973\n",
      "Epoch : 38/50, Iter : 100/125, Training Loss: 0.1911\n",
      "Epoch : 39/50, Iter : 100/125, Training Loss: 0.0810\n",
      "Epoch : 40/50, Iter : 100/125, Training Loss: 0.1767\n",
      "Epoch : 41/50, Iter : 100/125, Training Loss: 0.1323\n",
      "Epoch : 42/50, Iter : 100/125, Training Loss: 0.1413\n",
      "Epoch : 43/50, Iter : 100/125, Training Loss: 0.0978\n",
      "Epoch : 44/50, Iter : 100/125, Training Loss: 0.0990\n",
      "Epoch : 45/50, Iter : 100/125, Training Loss: 0.0859\n",
      "Epoch : 46/50, Iter : 100/125, Training Loss: 0.0912\n",
      "Epoch : 47/50, Iter : 100/125, Training Loss: 0.2016\n",
      "Epoch : 48/50, Iter : 100/125, Training Loss: 0.0796\n",
      "Epoch : 49/50, Iter : 100/125, Training Loss: 0.0967\n",
      "Epoch : 50/50, Iter : 100/125, Training Loss: 0.0878\n"
     ]
    },
    {
     "name": "stdout",
     "output_type": "stream",
     "text": [
      "\n",
      " \n",
      "\n"
     ]
    },
    {
     "name": "stderr",
     "output_type": "stream",
     "text": [
      "/opt/conda/envs/fastai/lib/python3.6/site-packages/matplotlib/font_manager.py:1241: UserWarning: findfont: Font family ['xkcd', 'Humor Sans', 'Comic Sans MS'] not found. Falling back to DejaVu Sans.\n",
      "  (prop.get_family(), self.defaultFamily[fontext]))\n"
     ]
    },
    {
     "data": {
      "image/png": "[encoded data removed]",
      "text/plain": [
       "<Figure size 432x288 with 1 Axes>"
      ]
     },
     "metadata": {},
     "output_type": "display_data"
    }
   ],
   "source": [
    "# Search over the hyper-params.\n",
    "models = []\n",
    "learning_rates = [0.001]\n",
    "for rate in learning_rates:\n",
    "    epochs = [10, 20, 30, 40, 50]\n",
    "    for epoch in epochs:\n",
    "        runner = ModelRunner(rate, epoch)\n",
    "        models.append(runner.run_model())"
   ]
  },
  {
   "cell_type": "code",
   "execution_count": 35,
   "metadata": {},
   "outputs": [],
   "source": [
    "def evaluate_model(model):\n",
    "    model.eval()\n",
    "    correct = 0\n",
    "    total = 0\n",
    "    for images, labels in validationloader:\n",
    "        images, labels = images.to(device), labels.to(device)\n",
    "        images = Variable(images.float())\n",
    "        outputs = model(images)\n",
    "        _, predicted = torch.max(outputs.data, 1)\n",
    "        total += labels.size(0)\n",
    "        correct += (predicted == labels).sum()\n",
    "        print('Validation Accuracy of the model on validation images: %.4f %%' % (100 * correct / total))\n",
    "        return (100 * correct / total)\n"
   ]
  },
  {
   "cell_type": "code",
   "execution_count": 47,
   "metadata": {},
   "outputs": [],
   "source": [
    "def find_best_model(models):\n",
    "    best_model = None\n",
    "    best_metric = 0.0\n",
    "    for model in models:\n",
    "        metric = evaluate_model(model)\n",
    "        if metric > best_metric:\n",
    "            best_model = model\n",
    "            best_metric = metric\n",
    "    return best_model"
   ]
  },
  {
   "cell_type": "code",
   "execution_count": 48,
   "metadata": {},
   "outputs": [
    {
     "name": "stdout",
     "output_type": "stream",
     "text": [
      "Validation Accuracy of the model on validation images: 82.0000 %\n",
      "Validation Accuracy of the model on validation images: 89.0000 %\n",
      "Validation Accuracy of the model on validation images: 75.0000 %\n",
      "Validation Accuracy of the model on validation images: 84.0000 %\n",
      "Validation Accuracy of the model on validation images: 81.0000 %\n"
     ]
    }
   ],
   "source": [
    "best_model = find_best_model(models)"
   ]
  },
  {
   "cell_type": "code",
   "execution_count": 50,
   "metadata": {},
   "outputs": [
    {
     "name": "stdout",
     "output_type": "stream",
     "text": [
      "Validation Accuracy of the model on validation images: 93.0000 %\n"
     ]
    },
    {
     "data": {
      "text/plain": [
       "tensor(93, device='cuda:0')"
      ]
     },
     "execution_count": 50,
     "metadata": {},
     "output_type": "execute_result"
    }
   ],
   "source": []
  },
  {
   "cell_type": "code",
   "execution_count": null,
   "metadata": {},
   "outputs": [],
   "source": []
  }
 ],
 "metadata": {
  "kernelspec": {
   "display_name": "Python 3",
   "language": "python",
   "name": "python3"
  },
  "language_info": {
   "codemirror_mode": {
    "name": "ipython",
    "version": 3
   },
   "file_extension": ".py",
   "mimetype": "text/x-python",
   "name": "python",
   "nbconvert_exporter": "python",
   "pygments_lexer": "ipython3",
   "version": "3.6.7"
  }
 },
 "nbformat": 4,
 "nbformat_minor": 2
}
