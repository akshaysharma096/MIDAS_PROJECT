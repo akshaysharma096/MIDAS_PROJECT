{
 "cells": [
  {
   "cell_type": "markdown",
   "metadata": {},
   "source": [
    "# Image Classifier - MIDAS INTERNSHIP CHALLENGE"
   ]
  },
  {
   "cell_type": "code",
   "execution_count": 1,
   "metadata": {},
   "outputs": [],
   "source": [
    "%reload_ext autoreload\n",
    "%autoreload 2\n",
    "%matplotlib inline"
   ]
  },
  {
   "cell_type": "markdown",
   "metadata": {},
   "source": [
    "## Explanation - 1\n",
    "The following code is used to import the our 3rd Party Deep Learning Libraries like *Pytorch* as well as checks, if the GPU is set or not.\n",
    "\n",
    "<img src =\"https://cdn-images-1.medium.com/max/2600/1*aqNgmfyBIStLrf9k7d9cng.jpeg\"/>"
   ]
  },
  {
   "cell_type": "code",
   "execution_count": 2,
   "metadata": {},
   "outputs": [
    {
     "name": "stdout",
     "output_type": "stream",
     "text": [
      "Device is usage: cuda:0\n"
     ]
    },
    {
     "name": "stderr",
     "output_type": "stream",
     "text": [
      "/opt/conda/envs/fastai/lib/python3.6/site-packages/tqdm/autonotebook/__init__.py:14: TqdmExperimentalWarning: Using `tqdm.autonotebook.tqdm` in notebook mode. Use `tqdm.tqdm` instead to force console mode (e.g. in jupyter console)\n",
      "  \" (e.g. in jupyter console)\", TqdmExperimentalWarning)\n"
     ]
    }
   ],
   "source": [
    "from fastai.vision import *\n",
    "import csv\n",
    "from fastai.metrics import error_rate\n",
    "from lr_finder import LRFinder\n",
    "import pandas as pd\n",
    "import time\n",
    "from torch.utils.data.sampler import SubsetRandomSampler\n",
    "import os\n",
    "from torch.autograd import Variable\n",
    "import matplotlib.image as mpimg\n",
    "from PIL import Image\n",
    "import torch\n",
    "import copy\n",
    "from torch.utils.data.dataset import Dataset\n",
    "from torch.utils.data import DataLoader\n",
    "import torch\n",
    "import torchvision\n",
    "import torchvision.transforms as transforms\n",
    "import torch.nn.functional as F\n",
    "from torch import nn, optim\n",
    "import torch.optim as optim\n",
    "import numpy as np\n",
    "import torch\n",
    "import pickle\n",
    "import os\n",
    "import torchvision\n",
    "use_cuda = torch.cuda.is_available()\n",
    "device = torch.device(\"cuda:0\" if use_cuda else \"cpu\")\n",
    "print(\"Device is usage: {0}\".format(device))"
   ]
  },
  {
   "cell_type": "markdown",
   "metadata": {},
   "source": [
    "## Explanation 2\n",
    "\n",
    "### Intuition\n",
    "The code block below defines few global variables that we would like to take care of, for example the batch size for our Deep Learning Pipeline as well as the paths of the training data/labels as well as the test_data"
   ]
  },
  {
   "cell_type": "code",
   "execution_count": 3,
   "metadata": {},
   "outputs": [],
   "source": [
    "data_path = \"./data\"\n",
    "train_images_path = \"{0}/train_image.pkl\".format(data_path)\n",
    "test_images_path = \"{0}/test_image.pkl\".format(data_path)\n",
    "train_labels_path = \"{0}/train_label.pkl\".format(data_path)\n",
    "sanitized_labels_path = \"{0}/train_labels_sanitized.pkl\".format(data_path)\n",
    "batch_size = 64\n",
    "random_seed = 43\n",
    "validation_split = 0.2\n",
    "shuffle_dataset = True\n",
    "torch.manual_seed(random_seed)\n",
    "\n",
    "with open(test_images_path, \"rb\") as file:\n",
    "    test_data = torch.ByteTensor(pickle.load(file)).view(-1, 28, 28) "
   ]
  },
  {
   "cell_type": "code",
   "execution_count": 4,
   "metadata": {},
   "outputs": [
    {
     "data": {
      "text/plain": [
       "[True, True, True]"
      ]
     },
     "execution_count": 4,
     "metadata": {},
     "output_type": "execute_result"
    }
   ],
   "source": [
    "def path_exists(path):\n",
    "    \"\"\"\n",
    "     Function to verfiy if, file path defined is correct\n",
    "    \"\"\"\n",
    "    return os.path.exists(path)\n",
    "\n",
    "valid_path = [path_exists(_) for _ in (train_images_path, test_images_path, train_labels_path)]\n",
    "valid_path"
   ]
  },
  {
   "cell_type": "code",
   "execution_count": 5,
   "metadata": {},
   "outputs": [
    {
     "data": {
      "text/plain": [
       "True"
      ]
     },
     "execution_count": 5,
     "metadata": {},
     "output_type": "execute_result"
    }
   ],
   "source": [
    "def sanitize_labels(labels_path):\n",
    "    \"\"\"\n",
    "        The labels given in the file are 0, 2, 3, 6\n",
    "        Each label should be mapped to required class, as 0 -> 0, 2 -> 2, 3 -> 2, 6 -> 3\n",
    "    \"\"\"\n",
    "    mapping = {0: 0, 2: 1, 3: 2, 6: 3}\n",
    "    with open(labels_path, 'rb') as file:\n",
    "        data = pickle.load(file)\n",
    "    result = [mapping[i] for i in data]\n",
    "    return result\n",
    "\n",
    "result = sanitize_labels(train_labels_path)\n",
    "\n",
    "with open(sanitized_labels_path, \"wb\") as file:\n",
    "    pickle.dump(result, file)\n",
    "\n",
    "path_exists(sanitized_labels_path)"
   ]
  },
  {
   "cell_type": "markdown",
   "metadata": {},
   "source": [
    "## Deep Learning Pipeline - Data Pre-processing\n",
    "\n",
    "<img src=\"https://cdn-images-1.medium.com/max/1200/1*ZX05x1xYgaVoa4Vn2kKS9g.png\" />\n",
    "\n",
    "### What's happening ?\n",
    "In the code block we have defined a basic class which takes care of our pre-processing pipeline.\n",
    "\n",
    "#### Why did we **inherit** the `Dataset`  class ?\n",
    "We are using PyTorch as our DeepLearning framework, PyTorch provides a very simple API to build the Deep Learnign PipeLine, we can do make our own pipeline by inheriting the **Dataset** class, which has internal methods to take of the things we need to take care of pre-processing.\n",
    "\n",
    "Here in our case I have divided the pipelin in the following parts.\n",
    "- Load data from pickle dump.\n",
    "- Build an API to *clean the data*, or arrange the data in a format that PyTorch understands, this has been done by the `__getitem__()` function.\n",
    "    - This functions iteratively returns a single dataset and the following label for our Neural Net to work on. \n",
    "- We also incorporate transformations in the class, which helps us normalising our data.\n",
    "    - **Normalising** input data is important, as this helps *Gradient Descent* to run faster, which means we can use a higher learning rate for our Neural Network, this helps us the reacht the minima faster, the contour of the cost functions are symmetrical when data is normalised.\n"
   ]
  },
  {
   "cell_type": "code",
   "execution_count": 6,
   "metadata": {},
   "outputs": [],
   "source": [
    "class DataSetLoader(Dataset):\n",
    "    '''Dataset Loader'''\n",
    "    def __init__(self, train_path, labels_path, transform=None, train=True, target_transform=None):\n",
    "        \"\"\"\n",
    "        Args:\n",
    "            train_path (string): Path to the training data file\n",
    "            labels_path (string): Path to the labels present for the training data\n",
    "            transform (callable): Optional transform to apply to sample\n",
    "        \"\"\"\n",
    "        self.test_lables = []\n",
    "        self.train=train\n",
    "        if self.train:\n",
    "            data = self._load_from_pickle(train_path)\n",
    "            self.train_data = torch.ByteTensor(data).view(-1, 28, 28) \n",
    "            self.train_labels = self._load_from_pickle(labels_path)\n",
    "        else:\n",
    "            data = self._load_from_pickle(train_path)\n",
    "            self.test_data = torch.ByteTensor(data).view(-1, 28, 28) \n",
    "            self.test_lables = [i for i in range(len(data))]\n",
    "\n",
    "            \n",
    "        del data\n",
    "        self.transform = transform\n",
    "        self.target_transform = target_transform\n",
    "        \n",
    "    def __len__(self):\n",
    "        \"\"\"\n",
    "         Returns the length of whole Dataset fed into the Neural Net.\n",
    "        \"\"\"\n",
    "        if self.train:\n",
    "            return len(self.train_data)\n",
    "        else:\n",
    "            return len(self.test_data)\n",
    "    \n",
    "    def __getitem__(self, index):\n",
    "        \"\"\"\n",
    "         Returns a single training/test example after applying the required normalisation/transformations techniques.\n",
    "         As well as the label.\n",
    "         \n",
    "         ret: (image, label)\n",
    "        \"\"\"\n",
    "        if self.train:\n",
    "            img, target = self.train_data[index], self.train_labels[index]\n",
    "        else:\n",
    "            img, target = self.test_data[index], self.test_lables[index]\n",
    "\n",
    "        # return a PIL Image\n",
    "        img = Image.fromarray(img.numpy(), mode='L')\n",
    "\n",
    "        if self.transform is not None:\n",
    "            img = self.transform(img)\n",
    "        if self.target_transform is not None:\n",
    "            target = self.target_transform(target)\n",
    "            \n",
    "        return img, target\n",
    "    \n",
    "    def _load_from_pickle(self, file_path):\n",
    "        \"\"\"\n",
    "         file_path: File path to load data, returns an ndarray\n",
    "         \n",
    "         ret: Loaded dump, in primitive data format.\n",
    "        \"\"\"\n",
    "        with open(file_path, 'rb') as file:\n",
    "            data = pickle.load(file)\n",
    "        return data\n",
    "    \n",
    "    def get_labels(self):\n",
    "        \"\"\"\n",
    "         Return an array of labels present in the data set.\n",
    "        \"\"\"\n",
    "        if self.train:\n",
    "            return np.unique(self.train_labels)\n",
    "        return []\n",
    "    \n",
    "    def visualise_data_set(self):\n",
    "        \"\"\"\n",
    "         Utility function to randomly display images from the dataset\n",
    "        \"\"\"\n",
    "        fig = plt.figure(figsize=(8,8))\n",
    "        columns = 4\n",
    "        rows = 5\n",
    "        if self.train:\n",
    "            data_set = self.train_data\n",
    "        else:\n",
    "            data_set = self.test_data\n",
    "        for i in range(1, columns * rows +1):\n",
    "            img_xy = np.random.randint(len(data_set));\n",
    "            img = data_set[img_xy][0][0,:,:]\n",
    "            fig.add_subplot(rows, columns, i)\n",
    "            plt.title(labels_map[data_set[img_xy][1]])\n",
    "            plt.axis('off')\n",
    "            plt.imshow(img)\n",
    "        \n",
    "        plt.show()            "
   ]
  },
  {
   "cell_type": "code",
   "execution_count": 7,
   "metadata": {},
   "outputs": [],
   "source": [
    "# Creating a labels map for storing the labels\n",
    "\n",
    "\n",
    "# Define the normalisation/tranformation techniques we need during pre-processing.\n",
    "img_transforms = transforms.Compose([transforms.ToTensor(),\n",
    "                               transforms.Normalize((0.5,0.5,0.5), (0.5,0.5,0.5))])"
   ]
  },
  {
   "cell_type": "code",
   "execution_count": 8,
   "metadata": {},
   "outputs": [],
   "source": [
    "# Create training and test data sets.\n",
    "train_dataset = DataSetLoader(train_images_path, sanitized_labels_path, train=True, transform=img_transforms)\n",
    "test_dataset = DataSetLoader(test_images_path, \"\", train=False, transform=img_transforms)\n",
    "\n",
    "dataset_size = len(train_dataset)\n",
    "indices = list(range(dataset_size))\n",
    "split = int(np.floor(validation_split * dataset_size))\n",
    "\n",
    "if shuffle_dataset :\n",
    "    np.random.seed(random_seed)\n",
    "    np.random.shuffle(indices)\n",
    "    \n",
    "train_indices, val_indices = indices[split:], indices[:split]\n",
    "\n",
    "train_sampler = SubsetRandomSampler(train_indices)\n",
    "valid_sampler = SubsetRandomSampler(val_indices)"
   ]
  },
  {
   "cell_type": "markdown",
   "metadata": {},
   "source": [
    "## Looking at the data\n",
    "\n",
    "The following code blocks gives us some insights about what kind of images our data set has.\n",
    "By looking at the training set, we have 4 labels, *0, 2 ,3, 6*, these labels are numerically labelled in our training labelled data set.\n",
    "\n",
    "Just for readibilty I have created a dictionary of mapping each numerical label to a physical label, like *Shirt*, *T-Shirt* etc.\n",
    "\n",
    "```\n",
    "labels = train_dataset.get_labels()\n",
    "```\n",
    "The code above gives us the unique labels present in our training data.\n",
    "```\n",
    "labels_map = {0 : 'T-Shirt', 1 : 'Pullover', 2 : 'Dress', 3 : 'Shirt'}\n",
    "```\n",
    "Initialises a dictionary to map each numerical label to a physical entity."
   ]
  },
  {
   "cell_type": "code",
   "execution_count": 9,
   "metadata": {},
   "outputs": [
    {
     "name": "stdout",
     "output_type": "stream",
     "text": [
      "Label: 0, value: T-Shirt\n",
      "Label: 1, value: Pullover\n",
      "Label: 2, value: Dress\n",
      "Label: 3, value: Shirt\n"
     ]
    }
   ],
   "source": [
    "labels = train_dataset.get_labels()\n",
    "labels_map = {0 : 'T-Shirt', 1 : 'Pullover', 2 : 'Dress', 3 : 'Shirt'}\n",
    "reverse_mapping = {0: 0, 1: 2, 2: 3, 3: 6}\n",
    "for label in labels:\n",
    "    print(\"Label: {0}, value: {1}\".format(label, labels_map[label]))\n",
    "class_names = ['T-Shirt','Pullover', 'Dress', 'Shirt']"
   ]
  },
  {
   "cell_type": "code",
   "execution_count": 10,
   "metadata": {},
   "outputs": [
    {
     "data": {
      "image/png": "[encoded data removed]",
      "text/plain": [
       "<Figure size 576x576 with 20 Axes>"
      ]
     },
     "metadata": {
      "needs_background": "light"
     },
     "output_type": "display_data"
    }
   ],
   "source": [
    "fig = plt.figure(figsize=(8,8));\n",
    "columns = 4;\n",
    "rows = 5;\n",
    "for i in range(1, columns*rows +1):\n",
    "    img_xy = np.random.randint(len(train_dataset));\n",
    "    img = train_dataset[img_xy][0][0,:,:]\n",
    "    fig.add_subplot(rows, columns, i)\n",
    "    plt.title(labels_map[train_dataset[img_xy][1]])\n",
    "    plt.axis('off')\n",
    "    plt.imshow(img)\n",
    "plt.show()\n"
   ]
  },
  {
   "cell_type": "markdown",
   "metadata": {},
   "source": [
    "### Explanation of code block below\n",
    "\n",
    "For our data pre-processing we have cleaned our data, applied required transformations, as well as wrote a simple API that allows us to do the steps gracefully.\n",
    "What we need now is another API which can help us in iterating over our training/test datasets efficiently.\n",
    "\n",
    "The following code does the same, **DataLoader** class provides us with an *Python* `iterator` object which allows for traverse over our dataset very efficiently, in specific batch size we want.\n",
    "\n",
    "```\n",
    "for i_batch, sample_batched in enumerate(trainloader):\n",
    "    do_something(sample_batched)\n",
    "```\n",
    "\n",
    "Since trainloader is an iterator we can easily now iterate over our data set, you can also the see the code example above.\n",
    "\n",
    "#### What's my intuition behind this ?\n",
    "\n",
    "The most basic intuition in making an iterator here is we need to carry the basic Neural Net operations: \n",
    "  - Forward Propagation \n",
    "  - Backward Propagation\n",
    "\n",
    "Since we want to carry out **Mini Batch Gradient Descent** for our Neural Network to learn the hyper-params, we are using this iterator to automatically create the required batches."
   ]
  },
  {
   "cell_type": "code",
   "execution_count": 11,
   "metadata": {},
   "outputs": [],
   "source": [
    "\"\"\"\n",
    "    We built our data set using DataSetLoader class we defined above, now we need the the following operations\n",
    "    1. Divide our dataset the into the batch sizes.\n",
    "    2. Shuffle the dataset accordingly for randomness.\n",
    "\"\"\"\n",
    "trainloader = torch.utils.data.DataLoader(dataset=train_dataset, batch_size=batch_size,\n",
    "                                           sampler=train_sampler, num_workers=2)\n",
    "\n",
    "validationloader = torch.utils.data.DataLoader(dataset=train_dataset,batch_size=batch_size,\n",
    "                                           sampler=valid_sampler, num_workers=2)\n",
    "\n",
    "testloader = torch.utils.data.DataLoader(dataset=test_dataset,\n",
    "                                          batch_size=batch_size,\n",
    "                                          shuffle=True, num_workers=2)"
   ]
  },
  {
   "cell_type": "markdown",
   "metadata": {},
   "source": [
    "## Model Creation\n",
    "\n",
    "### What is code block doing ?\n",
    "The code block below defines the architecture of our Convolutional Neural Network. Our input is an image of dimensions (28 x 28), usually images have 3 channels, **RED, BLUE AND GREEN**, but in the current data set we have only 1 channel, due to this we initialise our Convolutional Layer accordingly.\n",
    "\n",
    "In the first Convolutional block of our CNN we use only a single channel that is 1, becaue input image has only 1 channel.\n",
    "```\n",
    "class CNN(nn.Module):\n",
    "    def __init__(self):\n",
    "     .....\n",
    "     nn.Conv2d(1, 16, kernel_size=4, padding=2)\n",
    "     .....\n",
    "```\n",
    "\n",
    "Similarly.\n",
    "\n",
    "```\n",
    "class CNN(nn.Module):\n",
    "\n",
    "    def __init__(self):\n",
    "        .....\n",
    "        nn.Conv2d(16, 32, kernel_size=6, padding=2),\n",
    "        ....\n",
    "```\n",
    "In the second Convolutional Block, the number of input channels are 16 as the number of channels that will be received from CNN block 1 are 16.\n",
    "\n",
    "The code block above specifies that our Convolutional Blocks have a padding of 2 and kernel size of 5.\n",
    "We use BatchNormalisation to smoothen our loss landscape, and we use Dropout as a regularisation technique to keep overfitting in check.\n",
    "\n",
    "### My Intuition\n",
    "\n",
    "The basic intuition behind the CNN architecture is to involve techniques like Batch Normalization and Regularisation techniques like Dropout, on one hand, as well know Gradient Descent will converge to a minima for the training set, \n",
    "but if the number of epochs are high, then this can lead to overfitting. \n",
    "\n",
    "One another important factor to keep in-check is how we initialise weights, if weights are too small, gradients can vanish easily, if weights are too large, gradients can explode, to take care of the this issue, we initialise the weights with according to ideas presented in the paper [\"Understanding the difficulty of training deep feedforward neural networks\"](http://proceedings.mlr.press/v9/glorot10a/glorot10a.pdf), if we initialise the weights of our Neural Netowk using the techniques presented in the paper, we can help reduce the chances of vanishing/exploding gradients.\n",
    "\n",
    "```\n",
    "    def weights_initialisation(m):\n",
    "        if isinstance(m, nn.Conv2d):\n",
    "            torch.nn.init.xavier_uniform_(m.weight)\n",
    "            if m.bias is not None:\n",
    "                torch.nn.init.zeros_(m.bias)\n",
    "```\n",
    "\n",
    "The code snippet above initialises the weights of our convolutional filters with a variance of `(2/n)`, where n is the size of input of the layer, as per the ideas ideas presented in the paper [\"Understanding the difficulty of training deep feedforward neural networks\"](http://proceedings.mlr.press/v9/glorot10a/glorot10a.pdf).\n",
    "\n",
    "\n",
    "therefore:\n",
    "   - Dropout helps in regularising our weights to reduce overfitting, I have kept the probability of regularisation as 0.5\n",
    "   - Batch Normalization smoothens the loss landscape and thus allows to converge faster to minima, using Gradient Descent.\n",
    "   - Xavier Initialisation, can help in reducing vanishing/exploding gradients."
   ]
  },
  {
   "cell_type": "code",
   "execution_count": 12,
   "metadata": {},
   "outputs": [],
   "source": [
    "def weights_initialisation(m):\n",
    "    if isinstance(m, nn.Conv2d):\n",
    "        torch.nn.init.xavier_uniform_(m.weight)\n",
    "        if m.bias is not None:\n",
    "            torch.nn.init.zeros_(m.bias)\n",
    "        \n",
    "class CNN(nn.Module):\n",
    "    \"\"\"\n",
    "        CNN architecture:\n",
    "        CONV -> BatchNorm -> Relu -> MaxPool -> CONV -> BatchNorm -> Relu -> Dropout -> MaxPool -> Linear -> Output\n",
    "    \"\"\"\n",
    "    def __init__(self):\n",
    "        super(CNN, self).__init__()\n",
    "        self.layer1 = nn.Sequential(\n",
    "            nn.Conv2d(1, 16, kernel_size=5, padding=2),\n",
    "            # 16 is the number of channels\n",
    "            nn.BatchNorm2d(16),\n",
    "            nn.ReLU(),\n",
    "            nn.MaxPool2d(2))\n",
    "        self.layer2 = nn.Sequential(\n",
    "            nn.Conv2d(16, 32, kernel_size=5, padding=2),\n",
    "            nn.BatchNorm2d(32),\n",
    "            nn.ReLU(),\n",
    "            nn.Dropout2d(p=0.5),\n",
    "            nn.MaxPool2d(2))\n",
    "        self.layer3 = nn.Sequential(\n",
    "            nn.Conv2d(32, 32, kernel_size=5, padding=2),\n",
    "            nn.BatchNorm2d(32),\n",
    "            nn.ReLU(),\n",
    "            nn.Dropout2d(p=0.5),\n",
    "            nn.MaxPool2d(2))\n",
    "        # Number of classes is 4\n",
    "        self.fc = nn.Linear(3 * 3 * 32, 4)\n",
    "        \n",
    "    def forward(self, x):\n",
    "        out = self.layer1(x)\n",
    "        out = self.layer2(out)\n",
    "        out = self.layer3(out)\n",
    "        out = out.view(out.size(0), -1)\n",
    "        out = self.fc(out)\n",
    "        return out"
   ]
  },
  {
   "cell_type": "markdown",
   "metadata": {},
   "source": [
    "## Finding Hyper-parmeters\n",
    "\n",
    "Finding hyper-paramters are very important for buidling a good classifier, one of the most important one is *learning rate*\n",
    "There can two approaches we can take here to find the appropriate learning rate.\n",
    "   - We can do a grid search of learning rate vs epochs to find the combination for the model with the best accuracy on our validation set.\n",
    "     - This is might take great lenghts of time to find the right learning rate.\n",
    "   - Or we can do use the ideas from the paper: [Cyclical Learning Rates for Training Neural Networks](https://arxiv.org/pdf/1506.01186.pdf), to find the a good learning rate range for our model.\n",
    "   \n",
    "The code below depicts what can be possible learning rates for our CNN, given our training and validation set."
   ]
  },
  {
   "cell_type": "code",
   "execution_count": 13,
   "metadata": {},
   "outputs": [
    {
     "data": {
      "application/vnd.jupyter.widget-view+json": {
       "model_id": "6603130d67974c55bf4101e72dfb0574",
       "version_major": 2,
       "version_minor": 0
      },
      "text/plain": [
       "HBox(children=(IntProgress(value=0), HTML(value='')))"
      ]
     },
     "metadata": {},
     "output_type": "display_data"
    },
    {
     "name": "stdout",
     "output_type": "stream",
     "text": [
      "Stopping early, the loss has diverged\n",
      "Learning rate search finished. See the graph with {finder_name}.plot()\n"
     ]
    },
    {
     "data": {
      "image/png": "[encoded data removed]",
      "text/plain": [
       "<Figure size 432x288 with 1 Axes>"
      ]
     },
     "metadata": {
      "needs_background": "light"
     },
     "output_type": "display_data"
    }
   ],
   "source": [
    "# Find learning rate using Exponential decay\n",
    "net = CNN().cuda().apply(weights_initialisation)\n",
    "optimizer = optim.Adam(net.parameters(), lr=1e-5)\n",
    "lr_finder = LRFinder(net, optimizer, nn.CrossEntropyLoss().cuda(), device=\"cuda\")\n",
    "lr_finder.range_test(trainloader, val_loader=validationloader, end_lr=10)\n",
    "lr_finder.plot()\n",
    "history = lr_finder.history\n",
    "lr_finder.reset()"
   ]
  },
  {
   "cell_type": "markdown",
   "metadata": {},
   "source": [
    "From the graphs above, we can consider the range of rates where the graph steeps downwards continously, that range can be taken as an approximate learning rate for our network, why? because the loss is calculated on our validation set `validationloader`, which is being passed in our code above, as the loss is continously decreasing, it makes sense to use that range as our range of learning rate.\n",
    "\n",
    "Therefore, we can use an approximate learning rate of from 0.001 to 0.01, here."
   ]
  },
  {
   "cell_type": "markdown",
   "metadata": {},
   "source": [
    "## Model Training\n",
    "\n",
    "The code below is an abstraction over how we will be training our model on our training data.\n",
    "\n",
    "```\n",
    "class ModelRunner:\n",
    "\n",
    "    def __init__(self, learning_rate, epochs):\n",
    "        .....\n",
    "    \n",
    "    def run_model(self):\n",
    "        .....\n",
    "       \n",
    "     def plot_losses(self):\n",
    "         .....\n",
    "```\n",
    "The code snippets above gives us the simple API to train our selected model on specific hyper-paramters we want.\n",
    "We have already seen the range of learning rate we need to keep so that our model can converge as well as reduce over-fitting.\n",
    "\n",
    "We now need to find the right range of epochs for which we need to train our model.\n",
    "We will use a technique called *Grid Search* to find the right set of paramters.\n",
    "\n",
    "Once our models are trained on those hyper-paramters, we will use our validation-set, `vaidationloader` to find the model which has the better accuracy.\n",
    "\n",
    "I have wrriten to this code snippet, so that I can easily do a grid search, save the data from the grid-search and then use our *validation set* to find which set of parameters are the best."
   ]
  },
  {
   "cell_type": "code",
   "execution_count": 14,
   "metadata": {},
   "outputs": [],
   "source": [
    "class ModelRunner:\n",
    "    \"\"\"\n",
    "        Class to abstract how we train our model on training and validation data sets.\n",
    "    \"\"\"\n",
    "    def __init__(self, learning_rate, epochs):\n",
    "        self.learning_rate = learning_rate\n",
    "        self.epochs = epochs\n",
    "        self.training_losses = []\n",
    "    \n",
    "    def initialise_model(self):\n",
    "        self.model = CNN().cuda()\n",
    "        self.criterion = nn.CrossEntropyLoss().cuda()\n",
    "        self.optimizer = torch.optim.Adam(self.model.parameters(), lr=self.learning_rate)\n",
    "    \n",
    "    def run_model(self):\n",
    "        self.initialise_model()\n",
    "        print(\"-------Running Model, with rate: {0} and epochs: {1} -------\".format(self.learning_rate, self.epochs))\n",
    "        for epoch in range(self.epochs):\n",
    "            for i, (images, labels) in enumerate(trainloader):\n",
    "                images = Variable(images.to(device).float())\n",
    "                labels = Variable(labels.cuda())\n",
    "                self.optimizer.zero_grad()\n",
    "                outputs = self.model(images)\n",
    "                loss = self.criterion(outputs, labels)\n",
    "                loss.backward()\n",
    "                self.optimizer.step()\n",
    "                self.training_losses.append(loss.data.item())\n",
    "        \n",
    "                if (i+1) % 100 == 0:\n",
    "                    print('Epoch : %d/%d, Iter : %d/%d, Training Loss: %.4f' \n",
    "                       %(epoch+1, self.epochs, i+1, len(train_dataset)//batch_size, loss.data.item()))\n",
    "        \n",
    "        self.plot_losses()\n",
    "        print(\"\\n \\n\")\n",
    "        return self.model\n",
    "    \n",
    "    def plot_losses(self):\n",
    "        plt.xlabel('Epoch #')\n",
    "        plt.ylabel('Loss')\n",
    "        plt.plot(self.training_losses[::100])\n",
    "        plt.show()"
   ]
  },
  {
   "cell_type": "code",
   "execution_count": 15,
   "metadata": {},
   "outputs": [
    {
     "name": "stdout",
     "output_type": "stream",
     "text": [
      "-------Running Model, with rate: 0.001 and epochs: 40 -------\n",
      "Epoch : 1/40, Iter : 100/125, Training Loss: 0.7931\n",
      "Epoch : 2/40, Iter : 100/125, Training Loss: 0.5093\n",
      "Epoch : 3/40, Iter : 100/125, Training Loss: 0.4396\n",
      "Epoch : 4/40, Iter : 100/125, Training Loss: 0.3960\n",
      "Epoch : 5/40, Iter : 100/125, Training Loss: 0.2918\n",
      "Epoch : 6/40, Iter : 100/125, Training Loss: 0.4212\n",
      "Epoch : 7/40, Iter : 100/125, Training Loss: 0.3809\n",
      "Epoch : 8/40, Iter : 100/125, Training Loss: 0.3754\n",
      "Epoch : 9/40, Iter : 100/125, Training Loss: 0.3699\n",
      "Epoch : 10/40, Iter : 100/125, Training Loss: 0.3092\n",
      "Epoch : 11/40, Iter : 100/125, Training Loss: 0.3309\n",
      "Epoch : 12/40, Iter : 100/125, Training Loss: 0.3697\n",
      "Epoch : 13/40, Iter : 100/125, Training Loss: 0.5675\n",
      "Epoch : 14/40, Iter : 100/125, Training Loss: 0.1875\n",
      "Epoch : 15/40, Iter : 100/125, Training Loss: 0.4508\n",
      "Epoch : 16/40, Iter : 100/125, Training Loss: 0.2406\n",
      "Epoch : 17/40, Iter : 100/125, Training Loss: 0.2950\n",
      "Epoch : 18/40, Iter : 100/125, Training Loss: 0.2980\n",
      "Epoch : 19/40, Iter : 100/125, Training Loss: 0.2609\n",
      "Epoch : 20/40, Iter : 100/125, Training Loss: 0.3420\n",
      "Epoch : 21/40, Iter : 100/125, Training Loss: 0.2583\n",
      "Epoch : 22/40, Iter : 100/125, Training Loss: 0.4272\n",
      "Epoch : 23/40, Iter : 100/125, Training Loss: 0.4090\n",
      "Epoch : 24/40, Iter : 100/125, Training Loss: 0.2099\n",
      "Epoch : 25/40, Iter : 100/125, Training Loss: 0.4338\n",
      "Epoch : 26/40, Iter : 100/125, Training Loss: 0.2126\n",
      "Epoch : 27/40, Iter : 100/125, Training Loss: 0.2923\n",
      "Epoch : 28/40, Iter : 100/125, Training Loss: 0.1247\n",
      "Epoch : 29/40, Iter : 100/125, Training Loss: 0.3684\n",
      "Epoch : 30/40, Iter : 100/125, Training Loss: 0.3480\n",
      "Epoch : 31/40, Iter : 100/125, Training Loss: 0.3656\n",
      "Epoch : 32/40, Iter : 100/125, Training Loss: 0.2971\n",
      "Epoch : 33/40, Iter : 100/125, Training Loss: 0.2632\n",
      "Epoch : 34/40, Iter : 100/125, Training Loss: 0.2100\n",
      "Epoch : 35/40, Iter : 100/125, Training Loss: 0.3248\n",
      "Epoch : 36/40, Iter : 100/125, Training Loss: 0.4036\n",
      "Epoch : 37/40, Iter : 100/125, Training Loss: 0.2123\n",
      "Epoch : 38/40, Iter : 100/125, Training Loss: 0.2226\n",
      "Epoch : 39/40, Iter : 100/125, Training Loss: 0.1718\n",
      "Epoch : 40/40, Iter : 100/125, Training Loss: 0.1684\n"
     ]
    },
    {
     "data": {
      "image/png": "[encoded data removed]",
      "text/plain": [
       "<Figure size 432x288 with 1 Axes>"
      ]
     },
     "metadata": {
      "needs_background": "light"
     },
     "output_type": "display_data"
    },
    {
     "name": "stdout",
     "output_type": "stream",
     "text": [
      "\n",
      " \n",
      "\n",
      "-------Running Model, with rate: 0.001 and epochs: 50 -------\n",
      "Epoch : 1/50, Iter : 100/125, Training Loss: 0.7832\n",
      "Epoch : 2/50, Iter : 100/125, Training Loss: 0.4840\n",
      "Epoch : 3/50, Iter : 100/125, Training Loss: 0.4874\n",
      "Epoch : 4/50, Iter : 100/125, Training Loss: 0.5263\n",
      "Epoch : 5/50, Iter : 100/125, Training Loss: 0.4423\n",
      "Epoch : 6/50, Iter : 100/125, Training Loss: 0.4611\n",
      "Epoch : 7/50, Iter : 100/125, Training Loss: 0.4254\n",
      "Epoch : 8/50, Iter : 100/125, Training Loss: 0.4460\n",
      "Epoch : 9/50, Iter : 100/125, Training Loss: 0.3808\n",
      "Epoch : 10/50, Iter : 100/125, Training Loss: 0.3792\n",
      "Epoch : 11/50, Iter : 100/125, Training Loss: 0.2935\n",
      "Epoch : 12/50, Iter : 100/125, Training Loss: 0.2550\n",
      "Epoch : 13/50, Iter : 100/125, Training Loss: 0.3902\n",
      "Epoch : 14/50, Iter : 100/125, Training Loss: 0.2954\n",
      "Epoch : 15/50, Iter : 100/125, Training Loss: 0.4474\n",
      "Epoch : 16/50, Iter : 100/125, Training Loss: 0.4019\n",
      "Epoch : 17/50, Iter : 100/125, Training Loss: 0.2492\n",
      "Epoch : 18/50, Iter : 100/125, Training Loss: 0.2155\n",
      "Epoch : 19/50, Iter : 100/125, Training Loss: 0.4615\n",
      "Epoch : 20/50, Iter : 100/125, Training Loss: 0.2634\n",
      "Epoch : 21/50, Iter : 100/125, Training Loss: 0.1824\n",
      "Epoch : 22/50, Iter : 100/125, Training Loss: 0.3590\n",
      "Epoch : 23/50, Iter : 100/125, Training Loss: 0.2967\n",
      "Epoch : 24/50, Iter : 100/125, Training Loss: 0.2875\n",
      "Epoch : 25/50, Iter : 100/125, Training Loss: 0.2405\n",
      "Epoch : 26/50, Iter : 100/125, Training Loss: 0.2668\n",
      "Epoch : 27/50, Iter : 100/125, Training Loss: 0.2894\n",
      "Epoch : 28/50, Iter : 100/125, Training Loss: 0.2180\n",
      "Epoch : 29/50, Iter : 100/125, Training Loss: 0.2149\n",
      "Epoch : 30/50, Iter : 100/125, Training Loss: 0.1850\n",
      "Epoch : 31/50, Iter : 100/125, Training Loss: 0.2396\n",
      "Epoch : 32/50, Iter : 100/125, Training Loss: 0.2142\n",
      "Epoch : 33/50, Iter : 100/125, Training Loss: 0.1935\n",
      "Epoch : 34/50, Iter : 100/125, Training Loss: 0.1887\n",
      "Epoch : 35/50, Iter : 100/125, Training Loss: 0.1858\n",
      "Epoch : 36/50, Iter : 100/125, Training Loss: 0.2772\n",
      "Epoch : 37/50, Iter : 100/125, Training Loss: 0.2963\n",
      "Epoch : 38/50, Iter : 100/125, Training Loss: 0.0862\n",
      "Epoch : 39/50, Iter : 100/125, Training Loss: 0.1009\n",
      "Epoch : 40/50, Iter : 100/125, Training Loss: 0.2651\n",
      "Epoch : 41/50, Iter : 100/125, Training Loss: 0.1349\n",
      "Epoch : 42/50, Iter : 100/125, Training Loss: 0.2080\n",
      "Epoch : 43/50, Iter : 100/125, Training Loss: 0.1837\n",
      "Epoch : 44/50, Iter : 100/125, Training Loss: 0.1817\n",
      "Epoch : 45/50, Iter : 100/125, Training Loss: 0.1188\n",
      "Epoch : 46/50, Iter : 100/125, Training Loss: 0.1698\n",
      "Epoch : 47/50, Iter : 100/125, Training Loss: 0.1912\n",
      "Epoch : 48/50, Iter : 100/125, Training Loss: 0.0615\n",
      "Epoch : 49/50, Iter : 100/125, Training Loss: 0.1651\n",
      "Epoch : 50/50, Iter : 100/125, Training Loss: 0.2386\n"
     ]
    },
    {
     "data": {
      "image/png": "[encoded data removed]",
      "text/plain": [
       "<Figure size 432x288 with 1 Axes>"
      ]
     },
     "metadata": {
      "needs_background": "light"
     },
     "output_type": "display_data"
    },
    {
     "name": "stdout",
     "output_type": "stream",
     "text": [
      "\n",
      " \n",
      "\n",
      "-------Running Model, with rate: 0.001 and epochs: 60 -------\n",
      "Epoch : 1/60, Iter : 100/125, Training Loss: 0.5886\n",
      "Epoch : 2/60, Iter : 100/125, Training Loss: 0.6776\n",
      "Epoch : 3/60, Iter : 100/125, Training Loss: 0.6720\n",
      "Epoch : 4/60, Iter : 100/125, Training Loss: 0.4606\n",
      "Epoch : 5/60, Iter : 100/125, Training Loss: 0.4589\n",
      "Epoch : 6/60, Iter : 100/125, Training Loss: 0.5467\n",
      "Epoch : 7/60, Iter : 100/125, Training Loss: 0.6740\n",
      "Epoch : 8/60, Iter : 100/125, Training Loss: 0.4133\n",
      "Epoch : 9/60, Iter : 100/125, Training Loss: 0.4187\n",
      "Epoch : 10/60, Iter : 100/125, Training Loss: 0.3905\n",
      "Epoch : 11/60, Iter : 100/125, Training Loss: 0.4094\n",
      "Epoch : 12/60, Iter : 100/125, Training Loss: 0.4415\n",
      "Epoch : 13/60, Iter : 100/125, Training Loss: 0.5472\n",
      "Epoch : 14/60, Iter : 100/125, Training Loss: 0.3852\n",
      "Epoch : 15/60, Iter : 100/125, Training Loss: 0.5039\n",
      "Epoch : 16/60, Iter : 100/125, Training Loss: 0.3214\n",
      "Epoch : 17/60, Iter : 100/125, Training Loss: 0.3017\n",
      "Epoch : 18/60, Iter : 100/125, Training Loss: 0.3878\n",
      "Epoch : 19/60, Iter : 100/125, Training Loss: 0.3437\n",
      "Epoch : 20/60, Iter : 100/125, Training Loss: 0.3031\n",
      "Epoch : 21/60, Iter : 100/125, Training Loss: 0.2566\n",
      "Epoch : 22/60, Iter : 100/125, Training Loss: 0.2294\n",
      "Epoch : 23/60, Iter : 100/125, Training Loss: 0.2982\n",
      "Epoch : 24/60, Iter : 100/125, Training Loss: 0.3758\n",
      "Epoch : 25/60, Iter : 100/125, Training Loss: 0.3425\n",
      "Epoch : 26/60, Iter : 100/125, Training Loss: 0.2395\n",
      "Epoch : 27/60, Iter : 100/125, Training Loss: 0.2909\n",
      "Epoch : 28/60, Iter : 100/125, Training Loss: 0.3593\n",
      "Epoch : 29/60, Iter : 100/125, Training Loss: 0.1650\n",
      "Epoch : 30/60, Iter : 100/125, Training Loss: 0.3448\n",
      "Epoch : 31/60, Iter : 100/125, Training Loss: 0.2610\n",
      "Epoch : 32/60, Iter : 100/125, Training Loss: 0.2177\n",
      "Epoch : 33/60, Iter : 100/125, Training Loss: 0.2157\n",
      "Epoch : 34/60, Iter : 100/125, Training Loss: 0.2336\n",
      "Epoch : 35/60, Iter : 100/125, Training Loss: 0.3275\n",
      "Epoch : 36/60, Iter : 100/125, Training Loss: 0.1285\n",
      "Epoch : 37/60, Iter : 100/125, Training Loss: 0.1347\n",
      "Epoch : 38/60, Iter : 100/125, Training Loss: 0.2741\n",
      "Epoch : 39/60, Iter : 100/125, Training Loss: 0.3184\n",
      "Epoch : 40/60, Iter : 100/125, Training Loss: 0.1087\n",
      "Epoch : 41/60, Iter : 100/125, Training Loss: 0.1974\n",
      "Epoch : 42/60, Iter : 100/125, Training Loss: 0.3742\n",
      "Epoch : 43/60, Iter : 100/125, Training Loss: 0.2386\n",
      "Epoch : 44/60, Iter : 100/125, Training Loss: 0.2115\n",
      "Epoch : 45/60, Iter : 100/125, Training Loss: 0.1817\n",
      "Epoch : 46/60, Iter : 100/125, Training Loss: 0.2672\n",
      "Epoch : 47/60, Iter : 100/125, Training Loss: 0.1701\n",
      "Epoch : 48/60, Iter : 100/125, Training Loss: 0.2519\n",
      "Epoch : 49/60, Iter : 100/125, Training Loss: 0.2710\n",
      "Epoch : 50/60, Iter : 100/125, Training Loss: 0.2849\n",
      "Epoch : 51/60, Iter : 100/125, Training Loss: 0.2638\n",
      "Epoch : 52/60, Iter : 100/125, Training Loss: 0.1524\n",
      "Epoch : 53/60, Iter : 100/125, Training Loss: 0.1362\n",
      "Epoch : 54/60, Iter : 100/125, Training Loss: 0.1572\n",
      "Epoch : 55/60, Iter : 100/125, Training Loss: 0.2187\n",
      "Epoch : 56/60, Iter : 100/125, Training Loss: 0.1550\n",
      "Epoch : 57/60, Iter : 100/125, Training Loss: 0.1220\n",
      "Epoch : 58/60, Iter : 100/125, Training Loss: 0.1717\n",
      "Epoch : 59/60, Iter : 100/125, Training Loss: 0.2217\n",
      "Epoch : 60/60, Iter : 100/125, Training Loss: 0.1000\n"
     ]
    },
    {
     "data": {
      "image/png": "[encoded data removed]",
      "text/plain": [
       "<Figure size 432x288 with 1 Axes>"
      ]
     },
     "metadata": {
      "needs_background": "light"
     },
     "output_type": "display_data"
    },
    {
     "name": "stdout",
     "output_type": "stream",
     "text": [
      "\n",
      " \n",
      "\n",
      "-------Running Model, with rate: 0.003 and epochs: 40 -------\n",
      "Epoch : 1/40, Iter : 100/125, Training Loss: 0.5485\n",
      "Epoch : 2/40, Iter : 100/125, Training Loss: 0.5161\n",
      "Epoch : 3/40, Iter : 100/125, Training Loss: 0.4662\n",
      "Epoch : 4/40, Iter : 100/125, Training Loss: 0.3571\n",
      "Epoch : 5/40, Iter : 100/125, Training Loss: 0.3917\n",
      "Epoch : 6/40, Iter : 100/125, Training Loss: 0.3835\n",
      "Epoch : 7/40, Iter : 100/125, Training Loss: 0.3306\n",
      "Epoch : 8/40, Iter : 100/125, Training Loss: 0.3908\n",
      "Epoch : 9/40, Iter : 100/125, Training Loss: 0.3800\n",
      "Epoch : 10/40, Iter : 100/125, Training Loss: 0.3743\n",
      "Epoch : 11/40, Iter : 100/125, Training Loss: 0.4751\n",
      "Epoch : 12/40, Iter : 100/125, Training Loss: 0.2010\n",
      "Epoch : 13/40, Iter : 100/125, Training Loss: 0.4354\n",
      "Epoch : 14/40, Iter : 100/125, Training Loss: 0.1513\n",
      "Epoch : 15/40, Iter : 100/125, Training Loss: 0.3143\n",
      "Epoch : 16/40, Iter : 100/125, Training Loss: 0.3740\n",
      "Epoch : 17/40, Iter : 100/125, Training Loss: 0.2974\n",
      "Epoch : 18/40, Iter : 100/125, Training Loss: 0.2719\n",
      "Epoch : 19/40, Iter : 100/125, Training Loss: 0.3866\n",
      "Epoch : 20/40, Iter : 100/125, Training Loss: 0.3574\n",
      "Epoch : 21/40, Iter : 100/125, Training Loss: 0.2075\n",
      "Epoch : 22/40, Iter : 100/125, Training Loss: 0.2891\n",
      "Epoch : 23/40, Iter : 100/125, Training Loss: 0.3619\n",
      "Epoch : 24/40, Iter : 100/125, Training Loss: 0.3027\n",
      "Epoch : 25/40, Iter : 100/125, Training Loss: 0.1850\n",
      "Epoch : 26/40, Iter : 100/125, Training Loss: 0.3943\n",
      "Epoch : 27/40, Iter : 100/125, Training Loss: 0.2184\n",
      "Epoch : 28/40, Iter : 100/125, Training Loss: 0.2888\n",
      "Epoch : 29/40, Iter : 100/125, Training Loss: 0.2494\n",
      "Epoch : 30/40, Iter : 100/125, Training Loss: 0.2261\n",
      "Epoch : 31/40, Iter : 100/125, Training Loss: 0.1933\n",
      "Epoch : 32/40, Iter : 100/125, Training Loss: 0.2069\n",
      "Epoch : 33/40, Iter : 100/125, Training Loss: 0.2464\n",
      "Epoch : 34/40, Iter : 100/125, Training Loss: 0.3422\n",
      "Epoch : 35/40, Iter : 100/125, Training Loss: 0.1293\n",
      "Epoch : 36/40, Iter : 100/125, Training Loss: 0.3222\n",
      "Epoch : 37/40, Iter : 100/125, Training Loss: 0.2960\n",
      "Epoch : 38/40, Iter : 100/125, Training Loss: 0.3329\n",
      "Epoch : 39/40, Iter : 100/125, Training Loss: 0.2042\n",
      "Epoch : 40/40, Iter : 100/125, Training Loss: 0.2781\n"
     ]
    },
    {
     "data": {
      "image/png": "[encoded data removed]",
      "text/plain": [
       "<Figure size 432x288 with 1 Axes>"
      ]
     },
     "metadata": {
      "needs_background": "light"
     },
     "output_type": "display_data"
    },
    {
     "name": "stdout",
     "output_type": "stream",
     "text": [
      "\n",
      " \n",
      "\n",
      "-------Running Model, with rate: 0.003 and epochs: 50 -------\n",
      "Epoch : 1/50, Iter : 100/125, Training Loss: 0.6243\n",
      "Epoch : 2/50, Iter : 100/125, Training Loss: 0.5787\n",
      "Epoch : 3/50, Iter : 100/125, Training Loss: 0.5548\n",
      "Epoch : 4/50, Iter : 100/125, Training Loss: 0.4915\n",
      "Epoch : 5/50, Iter : 100/125, Training Loss: 0.4999\n",
      "Epoch : 6/50, Iter : 100/125, Training Loss: 0.5268\n",
      "Epoch : 7/50, Iter : 100/125, Training Loss: 0.2866\n",
      "Epoch : 8/50, Iter : 100/125, Training Loss: 0.4195\n",
      "Epoch : 9/50, Iter : 100/125, Training Loss: 0.5242\n",
      "Epoch : 10/50, Iter : 100/125, Training Loss: 0.4259\n",
      "Epoch : 11/50, Iter : 100/125, Training Loss: 0.3959\n",
      "Epoch : 12/50, Iter : 100/125, Training Loss: 0.4221\n",
      "Epoch : 13/50, Iter : 100/125, Training Loss: 0.2728\n",
      "Epoch : 14/50, Iter : 100/125, Training Loss: 0.3070\n",
      "Epoch : 15/50, Iter : 100/125, Training Loss: 0.4470\n",
      "Epoch : 16/50, Iter : 100/125, Training Loss: 0.2782\n",
      "Epoch : 17/50, Iter : 100/125, Training Loss: 0.2686\n",
      "Epoch : 18/50, Iter : 100/125, Training Loss: 0.3509\n",
      "Epoch : 19/50, Iter : 100/125, Training Loss: 0.4142\n",
      "Epoch : 20/50, Iter : 100/125, Training Loss: 0.2457\n",
      "Epoch : 21/50, Iter : 100/125, Training Loss: 0.4795\n",
      "Epoch : 22/50, Iter : 100/125, Training Loss: 0.2845\n",
      "Epoch : 23/50, Iter : 100/125, Training Loss: 0.3405\n",
      "Epoch : 24/50, Iter : 100/125, Training Loss: 0.3409\n",
      "Epoch : 25/50, Iter : 100/125, Training Loss: 0.3333\n",
      "Epoch : 26/50, Iter : 100/125, Training Loss: 0.1720\n",
      "Epoch : 27/50, Iter : 100/125, Training Loss: 0.2297\n",
      "Epoch : 28/50, Iter : 100/125, Training Loss: 0.3482\n",
      "Epoch : 29/50, Iter : 100/125, Training Loss: 0.2377\n",
      "Epoch : 30/50, Iter : 100/125, Training Loss: 0.2103\n",
      "Epoch : 31/50, Iter : 100/125, Training Loss: 0.2959\n",
      "Epoch : 32/50, Iter : 100/125, Training Loss: 0.2962\n",
      "Epoch : 33/50, Iter : 100/125, Training Loss: 0.2566\n",
      "Epoch : 34/50, Iter : 100/125, Training Loss: 0.3246\n",
      "Epoch : 35/50, Iter : 100/125, Training Loss: 0.4236\n",
      "Epoch : 36/50, Iter : 100/125, Training Loss: 0.2837\n",
      "Epoch : 37/50, Iter : 100/125, Training Loss: 0.3051\n",
      "Epoch : 38/50, Iter : 100/125, Training Loss: 0.1627\n",
      "Epoch : 39/50, Iter : 100/125, Training Loss: 0.2048\n",
      "Epoch : 40/50, Iter : 100/125, Training Loss: 0.1642\n",
      "Epoch : 41/50, Iter : 100/125, Training Loss: 0.3599\n",
      "Epoch : 42/50, Iter : 100/125, Training Loss: 0.1841\n",
      "Epoch : 43/50, Iter : 100/125, Training Loss: 0.1909\n",
      "Epoch : 44/50, Iter : 100/125, Training Loss: 0.0908\n",
      "Epoch : 45/50, Iter : 100/125, Training Loss: 0.2706\n",
      "Epoch : 46/50, Iter : 100/125, Training Loss: 0.2069\n",
      "Epoch : 47/50, Iter : 100/125, Training Loss: 0.1164\n",
      "Epoch : 48/50, Iter : 100/125, Training Loss: 0.2487\n",
      "Epoch : 49/50, Iter : 100/125, Training Loss: 0.1642\n",
      "Epoch : 50/50, Iter : 100/125, Training Loss: 0.2912\n"
     ]
    },
    {
     "data": {
      "image/png": "[encoded data removed]",
      "text/plain": [
       "<Figure size 432x288 with 1 Axes>"
      ]
     },
     "metadata": {
      "needs_background": "light"
     },
     "output_type": "display_data"
    },
    {
     "name": "stdout",
     "output_type": "stream",
     "text": [
      "\n",
      " \n",
      "\n",
      "-------Running Model, with rate: 0.003 and epochs: 60 -------\n",
      "Epoch : 1/60, Iter : 100/125, Training Loss: 0.6411\n",
      "Epoch : 2/60, Iter : 100/125, Training Loss: 0.5264\n",
      "Epoch : 3/60, Iter : 100/125, Training Loss: 0.5353\n",
      "Epoch : 4/60, Iter : 100/125, Training Loss: 0.4153\n",
      "Epoch : 5/60, Iter : 100/125, Training Loss: 0.3918\n",
      "Epoch : 6/60, Iter : 100/125, Training Loss: 0.3489\n",
      "Epoch : 7/60, Iter : 100/125, Training Loss: 0.4504\n",
      "Epoch : 8/60, Iter : 100/125, Training Loss: 0.3457\n",
      "Epoch : 9/60, Iter : 100/125, Training Loss: 0.4944\n",
      "Epoch : 10/60, Iter : 100/125, Training Loss: 0.2767\n",
      "Epoch : 11/60, Iter : 100/125, Training Loss: 0.3471\n",
      "Epoch : 12/60, Iter : 100/125, Training Loss: 0.3898\n",
      "Epoch : 13/60, Iter : 100/125, Training Loss: 0.2478\n",
      "Epoch : 14/60, Iter : 100/125, Training Loss: 0.3687\n",
      "Epoch : 15/60, Iter : 100/125, Training Loss: 0.5237\n",
      "Epoch : 16/60, Iter : 100/125, Training Loss: 0.4067\n",
      "Epoch : 17/60, Iter : 100/125, Training Loss: 0.2036\n",
      "Epoch : 18/60, Iter : 100/125, Training Loss: 0.2481\n",
      "Epoch : 19/60, Iter : 100/125, Training Loss: 0.4322\n",
      "Epoch : 20/60, Iter : 100/125, Training Loss: 0.2695\n",
      "Epoch : 21/60, Iter : 100/125, Training Loss: 0.3701\n",
      "Epoch : 22/60, Iter : 100/125, Training Loss: 0.2755\n",
      "Epoch : 23/60, Iter : 100/125, Training Loss: 0.2236\n",
      "Epoch : 24/60, Iter : 100/125, Training Loss: 0.2751\n",
      "Epoch : 25/60, Iter : 100/125, Training Loss: 0.3046\n",
      "Epoch : 26/60, Iter : 100/125, Training Loss: 0.2424\n",
      "Epoch : 27/60, Iter : 100/125, Training Loss: 0.2379\n",
      "Epoch : 28/60, Iter : 100/125, Training Loss: 0.3678\n",
      "Epoch : 29/60, Iter : 100/125, Training Loss: 0.2313\n",
      "Epoch : 30/60, Iter : 100/125, Training Loss: 0.1568\n",
      "Epoch : 31/60, Iter : 100/125, Training Loss: 0.2913\n",
      "Epoch : 32/60, Iter : 100/125, Training Loss: 0.4570\n",
      "Epoch : 33/60, Iter : 100/125, Training Loss: 0.2388\n",
      "Epoch : 34/60, Iter : 100/125, Training Loss: 0.1639\n",
      "Epoch : 35/60, Iter : 100/125, Training Loss: 0.2408\n",
      "Epoch : 36/60, Iter : 100/125, Training Loss: 0.1391\n",
      "Epoch : 37/60, Iter : 100/125, Training Loss: 0.2822\n",
      "Epoch : 38/60, Iter : 100/125, Training Loss: 0.2205\n",
      "Epoch : 39/60, Iter : 100/125, Training Loss: 0.1759\n",
      "Epoch : 40/60, Iter : 100/125, Training Loss: 0.1336\n",
      "Epoch : 41/60, Iter : 100/125, Training Loss: 0.3514\n",
      "Epoch : 42/60, Iter : 100/125, Training Loss: 0.2451\n",
      "Epoch : 43/60, Iter : 100/125, Training Loss: 0.2040\n",
      "Epoch : 44/60, Iter : 100/125, Training Loss: 0.2868\n",
      "Epoch : 45/60, Iter : 100/125, Training Loss: 0.1331\n",
      "Epoch : 46/60, Iter : 100/125, Training Loss: 0.2198\n",
      "Epoch : 47/60, Iter : 100/125, Training Loss: 0.2737\n",
      "Epoch : 48/60, Iter : 100/125, Training Loss: 0.0969\n",
      "Epoch : 49/60, Iter : 100/125, Training Loss: 0.2049\n",
      "Epoch : 50/60, Iter : 100/125, Training Loss: 0.1067\n",
      "Epoch : 51/60, Iter : 100/125, Training Loss: 0.3938\n",
      "Epoch : 52/60, Iter : 100/125, Training Loss: 0.1349\n",
      "Epoch : 53/60, Iter : 100/125, Training Loss: 0.2168\n",
      "Epoch : 54/60, Iter : 100/125, Training Loss: 0.1597\n",
      "Epoch : 55/60, Iter : 100/125, Training Loss: 0.2958\n",
      "Epoch : 56/60, Iter : 100/125, Training Loss: 0.3261\n",
      "Epoch : 57/60, Iter : 100/125, Training Loss: 0.2755\n",
      "Epoch : 58/60, Iter : 100/125, Training Loss: 0.0985\n",
      "Epoch : 59/60, Iter : 100/125, Training Loss: 0.2245\n",
      "Epoch : 60/60, Iter : 100/125, Training Loss: 0.2195\n"
     ]
    },
    {
     "data": {
      "image/png": "[encoded data removed]",
      "text/plain": [
       "<Figure size 432x288 with 1 Axes>"
      ]
     },
     "metadata": {
      "needs_background": "light"
     },
     "output_type": "display_data"
    },
    {
     "name": "stdout",
     "output_type": "stream",
     "text": [
      "\n",
      " \n",
      "\n",
      "-------Running Model, with rate: 0.005 and epochs: 40 -------\n",
      "Epoch : 1/40, Iter : 100/125, Training Loss: 0.8688\n",
      "Epoch : 2/40, Iter : 100/125, Training Loss: 0.5341\n",
      "Epoch : 3/40, Iter : 100/125, Training Loss: 0.4724\n",
      "Epoch : 4/40, Iter : 100/125, Training Loss: 0.5952\n",
      "Epoch : 5/40, Iter : 100/125, Training Loss: 0.3707\n",
      "Epoch : 6/40, Iter : 100/125, Training Loss: 0.3415\n",
      "Epoch : 7/40, Iter : 100/125, Training Loss: 0.4292\n",
      "Epoch : 8/40, Iter : 100/125, Training Loss: 0.5621\n",
      "Epoch : 9/40, Iter : 100/125, Training Loss: 0.3301\n",
      "Epoch : 10/40, Iter : 100/125, Training Loss: 0.5069\n",
      "Epoch : 11/40, Iter : 100/125, Training Loss: 0.4032\n",
      "Epoch : 12/40, Iter : 100/125, Training Loss: 0.2716\n",
      "Epoch : 13/40, Iter : 100/125, Training Loss: 0.2566\n",
      "Epoch : 14/40, Iter : 100/125, Training Loss: 0.3307\n",
      "Epoch : 15/40, Iter : 100/125, Training Loss: 0.2691\n",
      "Epoch : 16/40, Iter : 100/125, Training Loss: 0.4114\n",
      "Epoch : 17/40, Iter : 100/125, Training Loss: 0.3944\n",
      "Epoch : 18/40, Iter : 100/125, Training Loss: 0.2607\n",
      "Epoch : 19/40, Iter : 100/125, Training Loss: 0.3667\n",
      "Epoch : 20/40, Iter : 100/125, Training Loss: 0.5682\n",
      "Epoch : 21/40, Iter : 100/125, Training Loss: 0.2879\n",
      "Epoch : 22/40, Iter : 100/125, Training Loss: 0.3431\n",
      "Epoch : 23/40, Iter : 100/125, Training Loss: 0.3032\n",
      "Epoch : 24/40, Iter : 100/125, Training Loss: 0.1853\n",
      "Epoch : 25/40, Iter : 100/125, Training Loss: 0.2993\n",
      "Epoch : 26/40, Iter : 100/125, Training Loss: 0.4168\n",
      "Epoch : 27/40, Iter : 100/125, Training Loss: 0.4023\n",
      "Epoch : 28/40, Iter : 100/125, Training Loss: 0.2622\n",
      "Epoch : 29/40, Iter : 100/125, Training Loss: 0.2493\n",
      "Epoch : 30/40, Iter : 100/125, Training Loss: 0.3839\n",
      "Epoch : 31/40, Iter : 100/125, Training Loss: 0.1910\n",
      "Epoch : 32/40, Iter : 100/125, Training Loss: 0.4084\n",
      "Epoch : 33/40, Iter : 100/125, Training Loss: 0.2133\n",
      "Epoch : 34/40, Iter : 100/125, Training Loss: 0.1697\n",
      "Epoch : 35/40, Iter : 100/125, Training Loss: 0.2633\n",
      "Epoch : 36/40, Iter : 100/125, Training Loss: 0.2045\n",
      "Epoch : 37/40, Iter : 100/125, Training Loss: 0.2805\n",
      "Epoch : 38/40, Iter : 100/125, Training Loss: 0.1946\n",
      "Epoch : 39/40, Iter : 100/125, Training Loss: 0.1981\n",
      "Epoch : 40/40, Iter : 100/125, Training Loss: 0.2660\n"
     ]
    },
    {
     "data": {
      "image/png": "[encoded data removed]",
      "text/plain": [
       "<Figure size 432x288 with 1 Axes>"
      ]
     },
     "metadata": {
      "needs_background": "light"
     },
     "output_type": "display_data"
    },
    {
     "name": "stdout",
     "output_type": "stream",
     "text": [
      "\n",
      " \n",
      "\n",
      "-------Running Model, with rate: 0.005 and epochs: 50 -------\n",
      "Epoch : 1/50, Iter : 100/125, Training Loss: 0.6515\n",
      "Epoch : 2/50, Iter : 100/125, Training Loss: 0.4792\n",
      "Epoch : 3/50, Iter : 100/125, Training Loss: 0.4183\n",
      "Epoch : 4/50, Iter : 100/125, Training Loss: 0.5471\n",
      "Epoch : 5/50, Iter : 100/125, Training Loss: 0.4662\n",
      "Epoch : 6/50, Iter : 100/125, Training Loss: 0.3470\n",
      "Epoch : 7/50, Iter : 100/125, Training Loss: 0.4931\n",
      "Epoch : 8/50, Iter : 100/125, Training Loss: 0.3570\n",
      "Epoch : 9/50, Iter : 100/125, Training Loss: 0.5081\n",
      "Epoch : 10/50, Iter : 100/125, Training Loss: 0.5246\n",
      "Epoch : 11/50, Iter : 100/125, Training Loss: 0.2868\n",
      "Epoch : 12/50, Iter : 100/125, Training Loss: 0.5116\n",
      "Epoch : 13/50, Iter : 100/125, Training Loss: 0.2946\n",
      "Epoch : 14/50, Iter : 100/125, Training Loss: 0.3308\n",
      "Epoch : 15/50, Iter : 100/125, Training Loss: 0.3230\n",
      "Epoch : 16/50, Iter : 100/125, Training Loss: 0.4973\n",
      "Epoch : 17/50, Iter : 100/125, Training Loss: 0.1826\n",
      "Epoch : 18/50, Iter : 100/125, Training Loss: 0.2452\n",
      "Epoch : 19/50, Iter : 100/125, Training Loss: 0.1664\n",
      "Epoch : 20/50, Iter : 100/125, Training Loss: 0.4520\n",
      "Epoch : 21/50, Iter : 100/125, Training Loss: 0.2807\n",
      "Epoch : 22/50, Iter : 100/125, Training Loss: 0.1817\n",
      "Epoch : 23/50, Iter : 100/125, Training Loss: 0.3748\n",
      "Epoch : 24/50, Iter : 100/125, Training Loss: 0.2182\n",
      "Epoch : 25/50, Iter : 100/125, Training Loss: 0.2130\n",
      "Epoch : 26/50, Iter : 100/125, Training Loss: 0.4181\n",
      "Epoch : 27/50, Iter : 100/125, Training Loss: 0.3541\n",
      "Epoch : 28/50, Iter : 100/125, Training Loss: 0.3363\n",
      "Epoch : 29/50, Iter : 100/125, Training Loss: 0.2659\n",
      "Epoch : 30/50, Iter : 100/125, Training Loss: 0.2563\n",
      "Epoch : 31/50, Iter : 100/125, Training Loss: 0.2471\n",
      "Epoch : 32/50, Iter : 100/125, Training Loss: 0.2536\n",
      "Epoch : 33/50, Iter : 100/125, Training Loss: 0.1530\n",
      "Epoch : 34/50, Iter : 100/125, Training Loss: 0.2369\n",
      "Epoch : 35/50, Iter : 100/125, Training Loss: 0.2918\n",
      "Epoch : 36/50, Iter : 100/125, Training Loss: 0.2237\n",
      "Epoch : 37/50, Iter : 100/125, Training Loss: 0.4927\n",
      "Epoch : 38/50, Iter : 100/125, Training Loss: 0.2480\n",
      "Epoch : 39/50, Iter : 100/125, Training Loss: 0.1651\n",
      "Epoch : 40/50, Iter : 100/125, Training Loss: 0.2527\n",
      "Epoch : 41/50, Iter : 100/125, Training Loss: 0.3210\n",
      "Epoch : 42/50, Iter : 100/125, Training Loss: 0.3368\n",
      "Epoch : 43/50, Iter : 100/125, Training Loss: 0.2734\n",
      "Epoch : 44/50, Iter : 100/125, Training Loss: 0.3096\n",
      "Epoch : 45/50, Iter : 100/125, Training Loss: 0.2875\n",
      "Epoch : 46/50, Iter : 100/125, Training Loss: 0.3650\n",
      "Epoch : 47/50, Iter : 100/125, Training Loss: 0.3183\n",
      "Epoch : 48/50, Iter : 100/125, Training Loss: 0.2420\n",
      "Epoch : 49/50, Iter : 100/125, Training Loss: 0.2488\n",
      "Epoch : 50/50, Iter : 100/125, Training Loss: 0.1956\n"
     ]
    },
    {
     "data": {
      "image/png": "[encoded data removed]",
      "text/plain": [
       "<Figure size 432x288 with 1 Axes>"
      ]
     },
     "metadata": {
      "needs_background": "light"
     },
     "output_type": "display_data"
    },
    {
     "name": "stdout",
     "output_type": "stream",
     "text": [
      "\n",
      " \n",
      "\n",
      "-------Running Model, with rate: 0.005 and epochs: 60 -------\n",
      "Epoch : 1/60, Iter : 100/125, Training Loss: 0.5049\n",
      "Epoch : 2/60, Iter : 100/125, Training Loss: 0.5220\n",
      "Epoch : 3/60, Iter : 100/125, Training Loss: 0.3225\n",
      "Epoch : 4/60, Iter : 100/125, Training Loss: 0.4326\n",
      "Epoch : 5/60, Iter : 100/125, Training Loss: 0.4054\n",
      "Epoch : 6/60, Iter : 100/125, Training Loss: 0.6647\n",
      "Epoch : 7/60, Iter : 100/125, Training Loss: 0.5230\n",
      "Epoch : 8/60, Iter : 100/125, Training Loss: 0.3763\n",
      "Epoch : 9/60, Iter : 100/125, Training Loss: 0.4154\n",
      "Epoch : 10/60, Iter : 100/125, Training Loss: 0.3953\n",
      "Epoch : 11/60, Iter : 100/125, Training Loss: 0.3275\n",
      "Epoch : 12/60, Iter : 100/125, Training Loss: 0.3388\n",
      "Epoch : 13/60, Iter : 100/125, Training Loss: 0.4701\n",
      "Epoch : 14/60, Iter : 100/125, Training Loss: 0.3312\n",
      "Epoch : 15/60, Iter : 100/125, Training Loss: 0.2166\n",
      "Epoch : 16/60, Iter : 100/125, Training Loss: 0.2852\n",
      "Epoch : 17/60, Iter : 100/125, Training Loss: 0.3992\n",
      "Epoch : 18/60, Iter : 100/125, Training Loss: 0.2952\n",
      "Epoch : 19/60, Iter : 100/125, Training Loss: 0.2959\n",
      "Epoch : 20/60, Iter : 100/125, Training Loss: 0.3110\n",
      "Epoch : 21/60, Iter : 100/125, Training Loss: 0.3032\n",
      "Epoch : 22/60, Iter : 100/125, Training Loss: 0.2154\n",
      "Epoch : 23/60, Iter : 100/125, Training Loss: 0.2840\n",
      "Epoch : 24/60, Iter : 100/125, Training Loss: 0.2254\n",
      "Epoch : 25/60, Iter : 100/125, Training Loss: 0.1844\n",
      "Epoch : 26/60, Iter : 100/125, Training Loss: 0.4270\n",
      "Epoch : 27/60, Iter : 100/125, Training Loss: 0.2114\n",
      "Epoch : 28/60, Iter : 100/125, Training Loss: 0.2546\n",
      "Epoch : 29/60, Iter : 100/125, Training Loss: 0.3590\n",
      "Epoch : 30/60, Iter : 100/125, Training Loss: 0.2607\n",
      "Epoch : 31/60, Iter : 100/125, Training Loss: 0.2675\n",
      "Epoch : 32/60, Iter : 100/125, Training Loss: 0.1764\n",
      "Epoch : 33/60, Iter : 100/125, Training Loss: 0.3964\n",
      "Epoch : 34/60, Iter : 100/125, Training Loss: 0.3275\n",
      "Epoch : 35/60, Iter : 100/125, Training Loss: 0.2670\n",
      "Epoch : 36/60, Iter : 100/125, Training Loss: 0.2465\n",
      "Epoch : 37/60, Iter : 100/125, Training Loss: 0.3533\n",
      "Epoch : 38/60, Iter : 100/125, Training Loss: 0.1988\n",
      "Epoch : 39/60, Iter : 100/125, Training Loss: 0.1768\n",
      "Epoch : 40/60, Iter : 100/125, Training Loss: 0.2415\n",
      "Epoch : 41/60, Iter : 100/125, Training Loss: 0.3366\n",
      "Epoch : 42/60, Iter : 100/125, Training Loss: 0.1814\n",
      "Epoch : 43/60, Iter : 100/125, Training Loss: 0.2730\n",
      "Epoch : 44/60, Iter : 100/125, Training Loss: 0.1375\n",
      "Epoch : 45/60, Iter : 100/125, Training Loss: 0.2480\n",
      "Epoch : 46/60, Iter : 100/125, Training Loss: 0.2865\n",
      "Epoch : 47/60, Iter : 100/125, Training Loss: 0.1228\n",
      "Epoch : 48/60, Iter : 100/125, Training Loss: 0.1670\n",
      "Epoch : 49/60, Iter : 100/125, Training Loss: 0.2636\n",
      "Epoch : 50/60, Iter : 100/125, Training Loss: 0.2811\n",
      "Epoch : 51/60, Iter : 100/125, Training Loss: 0.2752\n",
      "Epoch : 52/60, Iter : 100/125, Training Loss: 0.1799\n",
      "Epoch : 53/60, Iter : 100/125, Training Loss: 0.1792\n",
      "Epoch : 54/60, Iter : 100/125, Training Loss: 0.3176\n",
      "Epoch : 55/60, Iter : 100/125, Training Loss: 0.1422\n",
      "Epoch : 56/60, Iter : 100/125, Training Loss: 0.2089\n",
      "Epoch : 57/60, Iter : 100/125, Training Loss: 0.2413\n",
      "Epoch : 58/60, Iter : 100/125, Training Loss: 0.1376\n",
      "Epoch : 59/60, Iter : 100/125, Training Loss: 0.1154\n",
      "Epoch : 60/60, Iter : 100/125, Training Loss: 0.0993\n"
     ]
    },
    {
     "data": {
      "image/png": "[encoded data removed]",
      "text/plain": [
       "<Figure size 432x288 with 1 Axes>"
      ]
     },
     "metadata": {
      "needs_background": "light"
     },
     "output_type": "display_data"
    },
    {
     "name": "stdout",
     "output_type": "stream",
     "text": [
      "\n",
      " \n",
      "\n"
     ]
    }
   ],
   "source": [
    "\"\"\"\n",
    "    Doing a grid search over possible learning rates as well as epochs.\n",
    "\"\"\"\n",
    "models = []\n",
    "learning_rates = [1e-3, 3e-3, 5e-3]\n",
    "epochs = [40, 50, 60]\n",
    "for rate in learning_rates:\n",
    "    for epoch in epochs:\n",
    "        runner = ModelRunner(rate, epoch)\n",
    "        models.append({\"model\": runner.run_model(), \"rate\":rate, \"epoch\": epoch})"
   ]
  },
  {
   "cell_type": "markdown",
   "metadata": {},
   "source": [
    "## Model Evaluation\n",
    "Since now we have found our set of models over our grid-search, we need to evaluate which model is better for use.\n",
    "Now since we have trained on our training set, we cannot validate our models on that set.\n",
    "\n",
    "What we need is our validation-set, `validationloader`, we will test the accuracy of each model on our validation-set and find which one of them, is the most accurate.\n",
    "\n",
    "I have written 2 functions for this.\n",
    "\n",
    "```\n",
    "def evaluate_model(model):\n",
    "    ....\n",
    "```\n",
    "and\n",
    "\n",
    "```\n",
    "def find_best_model(models):\n",
    "    ....\n",
    "```\n",
    "`evaluate_model(model)`, shows the accuracy of a single model on our validation set.\n",
    "\n",
    "`find_best_model(models)`, takes a collection of models as input and returns the best model, with the correct combination of epochs and learning rate."
   ]
  },
  {
   "cell_type": "code",
   "execution_count": 16,
   "metadata": {},
   "outputs": [],
   "source": [
    "np.random.seed(random_seed)\n",
    "\n",
    "def evaluate_model(model_obj):\n",
    "    model_obj[\"model\"].eval()\n",
    "    correct = 0\n",
    "    total = 0\n",
    "    print(\"\\n --- Epoch and learning rate are: {0} and {1} ----\".format(model_obj[\"epoch\"], model_obj[\"rate\"]))\n",
    "    for images, labels in validationloader:\n",
    "        images, labels = images.to(device), labels.to(device)\n",
    "        images = Variable(images.float())\n",
    "        outputs = model_obj[\"model\"](images)\n",
    "        _, predicted = torch.max(outputs.data, 1)\n",
    "        total += labels.size(0)\n",
    "        correct += (predicted == labels).sum()\n",
    "        print('Validation Accuracy of the model on validation images: %.4f %%' % (100 * correct / total))\n",
    "        return (100 * correct / total)\n",
    "\n",
    "\n",
    "def find_best_model(models):\n",
    "    best_model = None\n",
    "    best_metric = 0.0\n",
    "    for model in models:\n",
    "        metric = evaluate_model(model)\n",
    "        if metric > best_metric:\n",
    "            best_model = model\n",
    "            best_metric = metric\n",
    "    return best_model"
   ]
  },
  {
   "cell_type": "code",
   "execution_count": 17,
   "metadata": {},
   "outputs": [
    {
     "name": "stdout",
     "output_type": "stream",
     "text": [
      "\n",
      " --- Epoch and learning rate are: 40 and 0.001 ----\n",
      "Validation Accuracy of the model on validation images: 95.0000 %\n",
      "\n",
      " --- Epoch and learning rate are: 50 and 0.001 ----\n",
      "Validation Accuracy of the model on validation images: 89.0000 %\n",
      "\n",
      " --- Epoch and learning rate are: 60 and 0.001 ----\n",
      "Validation Accuracy of the model on validation images: 89.0000 %\n",
      "\n",
      " --- Epoch and learning rate are: 40 and 0.003 ----\n",
      "Validation Accuracy of the model on validation images: 82.0000 %\n",
      "\n",
      " --- Epoch and learning rate are: 50 and 0.003 ----\n",
      "Validation Accuracy of the model on validation images: 92.0000 %\n",
      "\n",
      " --- Epoch and learning rate are: 60 and 0.003 ----\n",
      "Validation Accuracy of the model on validation images: 90.0000 %\n",
      "\n",
      " --- Epoch and learning rate are: 40 and 0.005 ----\n",
      "Validation Accuracy of the model on validation images: 87.0000 %\n",
      "\n",
      " --- Epoch and learning rate are: 50 and 0.005 ----\n",
      "Validation Accuracy of the model on validation images: 84.0000 %\n",
      "\n",
      " --- Epoch and learning rate are: 60 and 0.005 ----\n",
      "Validation Accuracy of the model on validation images: 89.0000 %\n",
      "\n",
      "\n",
      "Best combination of Number of epochs and learning rate found are: 40, 0.001\n"
     ]
    }
   ],
   "source": [
    "best_model = find_best_model(models)\n",
    "epoch, rate = best_model[\"epoch\"], best_model[\"rate\"]\n",
    "print(\"\\n\\nBest combination of Number of epochs and learning rate found are: {0}, {1}\".format(epoch, rate))\n",
    "\n",
    "torch.save(best_model[\"model\"].state_dict(), \"model_weights.pt\")"
   ]
  },
  {
   "cell_type": "code",
   "execution_count": 18,
   "metadata": {},
   "outputs": [
    {
     "data": {
      "image/png": "[encoded data removed]",
      "text/plain": [
       "<Figure size 432x288 with 1 Axes>"
      ]
     },
     "metadata": {
      "needs_background": "light"
     },
     "output_type": "display_data"
    },
    {
     "data": {
      "image/png": "[encoded data removed]",
      "text/plain": [
       "<Figure size 432x288 with 1 Axes>"
      ]
     },
     "metadata": {
      "needs_background": "light"
     },
     "output_type": "display_data"
    },
    {
     "data": {
      "image/png": "[encoded data removed]",
      "text/plain": [
       "<Figure size 432x288 with 1 Axes>"
      ]
     },
     "metadata": {
      "needs_background": "light"
     },
     "output_type": "display_data"
    },
    {
     "data": {
      "image/png": "[encoded data removed]",
      "text/plain": [
       "<Figure size 432x288 with 1 Axes>"
      ]
     },
     "metadata": {
      "needs_background": "light"
     },
     "output_type": "display_data"
    },
    {
     "data": {
      "image/png": "[encoded data removed]",
      "text/plain": [
       "<Figure size 432x288 with 1 Axes>"
      ]
     },
     "metadata": {
      "needs_background": "light"
     },
     "output_type": "display_data"
    },
    {
     "data": {
      "image/png": "[encoded data removed]",
      "text/plain": [
       "<Figure size 432x288 with 1 Axes>"
      ]
     },
     "metadata": {
      "needs_background": "light"
     },
     "output_type": "display_data"
    }
   ],
   "source": [
    "\"\"\"\n",
    "    Helper functions to help us visualize our predictions\n",
    "\"\"\"\n",
    "def imshow(inp, title=None):\n",
    "    \"\"\"Imshow for Tensor.\"\"\"\n",
    "    inp = inp.numpy().transpose((1, 2, 0))\n",
    "    mean = np.array([0.485, 0.456, 0.406])\n",
    "    std = np.array([0.229, 0.224, 0.225])\n",
    "    inp = std * inp + mean\n",
    "    inp = np.clip(inp, 0, 1)\n",
    "    plt.imshow(inp)\n",
    "    if title is not None:\n",
    "        plt.title(title)\n",
    "    plt.pause(0.001)  # pause a bit so that plots are updated\n",
    "    \n",
    "def visualize_model(model, num_images=6):\n",
    "    was_training = model.training\n",
    "    model.eval()\n",
    "    images_so_far = 0\n",
    "    fig = plt.figure()\n",
    "\n",
    "    with torch.no_grad():\n",
    "        for i, (inputs, labels) in enumerate(validationloader):\n",
    "            inputs = inputs.to(device)\n",
    "            labels = labels.to(device)\n",
    "\n",
    "            outputs = model(inputs)\n",
    "            _, preds = torch.max(outputs, 1)\n",
    "\n",
    "            for j in range(inputs.size()[0]):\n",
    "                images_so_far += 1\n",
    "                ax = plt.subplot(num_images//2, 2, images_so_far)\n",
    "                ax.axis('off')\n",
    "                ax.set_title('predicted: {}'.format(class_names[preds[j]]))\n",
    "                imshow(inputs.cpu().data[j])\n",
    "\n",
    "                if images_so_far == num_images:\n",
    "                    model.train(mode=was_training)\n",
    "                    return\n",
    "        model.train(mode=was_training)\n",
    "\n",
    "visualize_model(best_model[\"model\"])"
   ]
  },
  {
   "cell_type": "markdown",
   "metadata": {},
   "source": [
    "## Inference\n",
    "The following code below is used to give more insights on how good our model is."
   ]
  },
  {
   "cell_type": "code",
   "execution_count": 19,
   "metadata": {},
   "outputs": [
    {
     "name": "stdout",
     "output_type": "stream",
     "text": [
      "|Item|Accuracy (%)|\n",
      "|-+-|\n",
      "|T-Shirt|87.6\n",
      "|Pullover|89.5\n",
      "|Dress|96.0\n",
      "|Shirt|78.3\n"
     ]
    }
   ],
   "source": [
    "class_correct = list(0. for i in range(4))\n",
    "class_total = list(0. for i in range(4))\n",
    "label_decoder = dict(zip(range(4), class_names))\n",
    "\n",
    "print(\"|Item|Accuracy (%)|\")\n",
    "print(\"|-+-|\")\n",
    "with torch.no_grad():\n",
    "    for images, labels in validationloader:\n",
    "        images, labels = images.to(device), labels.to(device)\n",
    "        images = Variable(images.float())\n",
    "        outputs = best_model[\"model\"](images)\n",
    "        _, predicted = torch.max(outputs, 1)\n",
    "        c = (predicted == labels).squeeze()\n",
    "        for i in range(len(labels)):\n",
    "            label = labels[i]\n",
    "            class_correct[label.item()] += c[i].item()\n",
    "            class_total[label.item()] += 1\n",
    "\n",
    "\n",
    "for i in range(4):\n",
    "    print('|{}|{:.1f}'.format(\n",
    "        label_decoder[i], 100 * class_correct[i] / class_total[i]))"
   ]
  },
  {
   "cell_type": "markdown",
   "metadata": {},
   "source": [
    "Our model has good performance over T-Shirt, Pullover and Dress, but has fails to classify Shirts to a greater accuracy, this can be a result of class imbalance in our training set, we can solve this by sampling our training set in such a way that each class as particular number of examples, so that our classifier can understand the differences more."
   ]
  },
  {
   "cell_type": "markdown",
   "metadata": {},
   "source": [
    "## Testing and saving lables of our test set\n",
    "\n",
    "The following code below loads our model, from the best state of model we saved previously and saves the predicted class in a csv file."
   ]
  },
  {
   "cell_type": "code",
   "execution_count": 22,
   "metadata": {},
   "outputs": [],
   "source": [
    "model = CNN()\n",
    "model.load_state_dict(torch.load(\"model_weights.pt\"))\n",
    "model.eval()\n",
    "count = 0\n",
    "predictions = open('AKSHAY_SHARMA.csv', 'w')\n",
    "\n",
    "with predictions:\n",
    "    fnames = ['index', 'image_class']\n",
    "    writer = csv.DictWriter(predictions, fieldnames=fnames)\n",
    "    writer.writeheader()\n",
    "    for i, (images, labels) in enumerate(testloader):\n",
    "        images = Variable(images.float())\n",
    "        outputs = model(images)\n",
    "        _, predicted = torch.max(outputs, 1)\n",
    "        for index, value in enumerate(predicted):\n",
    "            writer.writerow({'index':count, 'image_class': reverse_mapping[value.item()]})\n",
    "            count += 1"
   ]
  },
  {
   "cell_type": "markdown",
   "metadata": {},
   "source": [
    "# Conclusion\n",
    "We have successfully created an image classifier, that can classify give image data into 4 classes.\n",
    "\n",
    "To recap:\n",
    "   - We pre-prprocessed the data, including normalisation of images and as well making training, validation and test set.\n",
    "   - We defined a CNN architecture, used Xavier Initialisation, Batch Normalization and Dropout regularisation as part of our architecture.\n",
    "   - We did our hyper-parameter search, to find the correct learning rate as well as the number of epochs.\n",
    "   - Used grid-search, and then found the better model, by using our validation set.\n",
    "   - We saw how our classifier is working on different classes, from the data used from our validation set.\n",
    "   - In the end, we dumped the our predictions of our test set in a csv file.\n",
    " \n",
    "**By Akshay Sharma**, <akshay.sharma09695@gmail.com>"
   ]
  },
  {
   "cell_type": "code",
   "execution_count": null,
   "metadata": {},
   "outputs": [],
   "source": []
  }
 ],
 "metadata": {
  "kernelspec": {
   "display_name": "Python 3",
   "language": "python",
   "name": "python3"
  },
  "language_info": {
   "codemirror_mode": {
    "name": "ipython",
    "version": 3
   },
   "file_extension": ".py",
   "mimetype": "text/x-python",
   "name": "python",
   "nbconvert_exporter": "python",
   "pygments_lexer": "ipython3",
   "version": "3.6.7"
  }
 },
 "nbformat": 4,
 "nbformat_minor": 2
}
