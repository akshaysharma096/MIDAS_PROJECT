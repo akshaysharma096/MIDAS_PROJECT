{
 "cells": [
  {
   "cell_type": "markdown",
   "metadata": {},
   "source": [
    "# Image Classifier"
   ]
  },
  {
   "cell_type": "code",
   "execution_count": 62,
   "metadata": {},
   "outputs": [],
   "source": [
    "%reload_ext autoreload\n",
    "%autoreload 2\n",
    "%matplotlib inline"
   ]
  },
  {
   "cell_type": "code",
   "execution_count": 63,
   "metadata": {},
   "outputs": [],
   "source": [
    "from fastai.vision import *\n",
    "from fastai.metrics import error_rate"
   ]
  },
  {
   "cell_type": "code",
   "execution_count": 161,
   "metadata": {},
   "outputs": [
    {
     "name": "stdout",
     "output_type": "stream",
     "text": [
      "cuda:0\n"
     ]
    }
   ],
   "source": [
    "import pandas as pd\n",
    "import os\n",
    "import matplotlib.image as mpimg\n",
    "from PIL import Image\n",
    "import torch\n",
    "from torch.utils.data.dataset import Dataset\n",
    "from torch.utils.data import DataLoader\n",
    "import torch\n",
    "import torchvision\n",
    "import torchvision.transforms as transforms\n",
    "import torch.nn.functional as F\n",
    "import torch.optim as optim\n",
    "import numpy as np\n",
    "import torch\n",
    "import pickle\n",
    "import os\n",
    "import torchvision\n",
    "use_cuda = torch.cuda.is_available()\n",
    "device = torch.device(\"cuda:0\" if use_cuda else \"cpu\")\n",
    "print(device)"
   ]
  },
  {
   "cell_type": "code",
   "execution_count": 65,
   "metadata": {},
   "outputs": [],
   "source": [
    "data_path = \"./data\"\n",
    "train_images_path = \"{0}/train_image.pkl\".format(data_path)\n",
    "test_images_path = \"{0}/test_image.pkl\".format(data_path)\n",
    "train_labels_path = \"{0}/train_label.pkl\".format(data_path)\n",
    "batch_size = 64"
   ]
  },
  {
   "cell_type": "code",
   "execution_count": 66,
   "metadata": {},
   "outputs": [
    {
     "data": {
      "text/plain": [
       "[True, True, True]"
      ]
     },
     "execution_count": 66,
     "metadata": {},
     "output_type": "execute_result"
    }
   ],
   "source": [
    "def path_exists(path):\n",
    "    \"\"\"\n",
    "     Function to verfiy if, file path defined is correct\n",
    "    \"\"\"\n",
    "    return os.path.exists(path)\n",
    "\n",
    "valid_path = [path_exists(_) for _ in (train_images_path, test_images_path, test_images_path)]\n",
    "valid_path"
   ]
  },
  {
   "cell_type": "code",
   "execution_count": 155,
   "metadata": {},
   "outputs": [],
   "source": [
    "class DataSetLoader(Dataset):\n",
    "    '''DataSet Loader'''\n",
    "    def __init__(self, train_path, labels_path=None, transform=None):\n",
    "        \"\"\"\n",
    "        Args:\n",
    "            train_path (string): Path to the training data file\n",
    "            labels_path (string): Path to the labels present for the training data\n",
    "            transform (callable): Optional transform to apply to sample\n",
    "        \"\"\"\n",
    "        with open(train_path, 'rb') as file:\n",
    "            training_images = np.array(pickle.load(file))\n",
    "            \n",
    "        with open(train_path, 'rb') as file:\n",
    "            labels = np.array(pickle.load(file))\n",
    "        \n",
    "        self.X = self._load_from_pickle(train_path)\n",
    "        pixel_size = self._get_file_dimension(self.X)\n",
    "        # resize\n",
    "        self.X = self.X.reshape(-1, 1, pixel_size, pixel_size)\n",
    "        if labels_path:\n",
    "            self.Y = self._load_from_pickle(labels_path, no_tensor=True)\n",
    "        else:\n",
    "            self.Y = None\n",
    "            \n",
    "        self.transform = transform\n",
    "        \n",
    "    def __len__(self):\n",
    "        return len(self.X);\n",
    "    \n",
    "    def __getitem__(self, idx):\n",
    "        item = self.X[idx];\n",
    "        label = self.Y[idx];\n",
    "        if self.transform:\n",
    "            item = self.transform(item);\n",
    "        \n",
    "        return (item, label)\n",
    "    \n",
    "    def _load_from_pickle(self, file_path, no_tensor=False):\n",
    "        \"\"\"\n",
    "         file_path: File path to load data, returns an ndarray\n",
    "        \"\"\"\n",
    "        with open(file_path, 'rb') as file:\n",
    "            data = pickle.load(file)\n",
    "        return data if no_tensor else torch.tensor(data)\n",
    "    \n",
    "    def _get_file_dimension(self, data):\n",
    "        data_points, vector_size = data.shape\n",
    "        return int(np.sqrt(vector_size))\n",
    "    \n",
    "    def get_labels(self):\n",
    "        if self.Y is not None:\n",
    "            return np.unique(self.Y)\n",
    "        return []"
   ]
  },
  {
   "cell_type": "code",
   "execution_count": 156,
   "metadata": {},
   "outputs": [],
   "source": [
    "# Creating a labels map for storing the labels\n",
    "labels_map = {0 : 'T-Shirt', 2 : 'Pullover', 3 : 'Dress', 6 : 'Shirt'}\n",
    "img_transforms = transforms.Compose(get_transforms())"
   ]
  },
  {
   "cell_type": "code",
   "execution_count": 157,
   "metadata": {},
   "outputs": [],
   "source": [
    "train_dataset = DataSetLoader(train_images_path, labels_path=train_labels_path)\n",
    "test_dataset = DataSetLoader(test_images_path)"
   ]
  },
  {
   "cell_type": "code",
   "execution_count": 158,
   "metadata": {},
   "outputs": [
    {
     "name": "stdout",
     "output_type": "stream",
     "text": [
      "Label: 0, value: T-Shirt\n",
      "Label: 2, value: Pullover\n",
      "Label: 3, value: Dress\n",
      "Label: 6, value: Shirt\n"
     ]
    }
   ],
   "source": [
    "labels = train_dataset.get_labels()\n",
    "for label in labels:\n",
    "    print(\"Label: {0}, value: {1}\".format(label, labels_map[label]))"
   ]
  },
  {
   "cell_type": "code",
   "execution_count": 159,
   "metadata": {},
   "outputs": [],
   "source": [
    "trainloader = torch.utils.data.DataLoader(dataset=train_dataset,\n",
    "                                           batch_size=batch_size,\n",
    "                                           shuffle=True)\n",
    "\n",
    "testloader = torch.utils.data.DataLoader(dataset=test_dataset,\n",
    "                                          batch_size=batch_size,\n",
    "                                          shuffle=True)"
   ]
  },
  {
   "cell_type": "code",
   "execution_count": 160,
   "metadata": {},
   "outputs": [
    {
     "data": {
      "image/png": "[encoded data removed]",
      "text/plain": [
       "<Figure size 576x576 with 20 Axes>"
      ]
     },
     "metadata": {
      "needs_background": "light"
     },
     "output_type": "display_data"
    }
   ],
   "source": [
    "fig = plt.figure(figsize=(8,8));\n",
    "columns = 4;\n",
    "rows = 5;\n",
    "for i in range(1, columns*rows +1):\n",
    "    img_xy = np.random.randint(len(train_dataset));\n",
    "    img = train_dataset[img_xy][0][0,:,:]\n",
    "    fig.add_subplot(rows, columns, i)\n",
    "    plt.title(labels_map[train_dataset[img_xy][1]])\n",
    "    plt.axis('off')\n",
    "    plt.imshow(img, cmap='gray')\n",
    "plt.show()"
   ]
  },
  {
   "cell_type": "code",
   "execution_count": null,
   "metadata": {},
   "outputs": [],
   "source": []
  },
  {
   "cell_type": "code",
   "execution_count": null,
   "metadata": {},
   "outputs": [],
   "source": []
  },
  {
   "cell_type": "code",
   "execution_count": null,
   "metadata": {},
   "outputs": [],
   "source": []
  },
  {
   "cell_type": "code",
   "execution_count": null,
   "metadata": {},
   "outputs": [],
   "source": []
  }
 ],
 "metadata": {
  "kernelspec": {
   "display_name": "Python 3",
   "language": "python",
   "name": "python3"
  },
  "language_info": {
   "codemirror_mode": {
    "name": "ipython",
    "version": 3
   },
   "file_extension": ".py",
   "mimetype": "text/x-python",
   "name": "python",
   "nbconvert_exporter": "python",
   "pygments_lexer": "ipython3",
   "version": "3.6.7"
  }
 },
 "nbformat": 4,
 "nbformat_minor": 2
}
