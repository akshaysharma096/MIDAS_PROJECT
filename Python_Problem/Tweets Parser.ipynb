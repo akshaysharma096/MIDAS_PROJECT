{
 "cells": [
  {
   "cell_type": "markdown",
   "metadata": {},
   "source": [
    "# Twitter, tweets parser\n",
    "\n",
    "The following code b\n"
   ]
  },
  {
   "cell_type": "markdown",
   "metadata": {},
   "source": [
    "## Explanation \n",
    "The code in the block below, is added to import 3rd party libaries like **requests** and **pandas** which are very handy and ease out the development process, as well as we use the code block below to import in-built Python libraries like \n",
    "**os** and **json**"
   ]
  },
  {
   "cell_type": "code",
   "execution_count": 137,
   "metadata": {},
   "outputs": [],
   "source": [
    "# Importing neccassary 3rd party as well in-built Python libraries\n",
    "import requests\n",
    "import collections\n",
    "import os\n",
    "import oauth2\n",
    "from requests.auth import HTTPBasicAuth\n",
    "import json\n",
    "import pandas as pd"
   ]
  },
  {
   "cell_type": "markdown",
   "metadata": {},
   "source": []
  },
  {
   "cell_type": "code",
   "execution_count": 135,
   "metadata": {},
   "outputs": [],
   "source": [
    "class MidasTweetParser:\n",
    "    def __init__(self):\n",
    "        self.consumer_key = os.environ[\"TWITTER_ACCESS_TOKEN\"]\n",
    "        self.consumer_secret = os.environ[\"TWITTER_ACCESS_TOKEN_SECRET\"]\n",
    "        self.request_token_url = \"https://api.twitter.com/oauth2/token?grant_type=client_credentials\"\n",
    "        self.tweets_url = \"https://api.twitter.com/1.1/statuses/user_timeline.json\"\n",
    "        self.tweets_url_params = {\"screen_name\":\"midasiiitd\", \"page\": 1}\n",
    "        self.tabular_data = pd.DataFrame()\n",
    "    \n",
    "    def _get_bearer_token(self):\n",
    "        response = requests.post(self.request_token_url, auth=HTTPBasicAuth(self.consumer_key, self.consumer_secret))\n",
    "        response_data = json.loads(response.content.decode())\n",
    "        return response_data[\"access_token\"]\n",
    "    \n",
    "    def _handle_tweets(self, tweets):\n",
    "        for tweet in tweets:\n",
    "            date_time = tweet.get(\"created_at\")\n",
    "            text = tweet.get(\"text\")\n",
    "            favourite_likes = int(tweet.get(\"favorite_count\"))\n",
    "            retweet_count = int(tweet.get(\"retweet_count\"))\n",
    "            entities = tweet.get(\"extended_entities\", None)\n",
    "            images_count = 0\n",
    "            if entities:\n",
    "                images_count = len(entities.get(\"media\", []))\n",
    "\n",
    "            data_frame_row = {\n",
    "                \"Time and Date of Creation\": pd.to_datetime(date_time),\n",
    "                \"Number of Retweets\":retweet_count,\n",
    "                \"Number of Images Present\":images_count,\n",
    "                \"Favourite Count\":favourite_likes,\n",
    "                \"Text\":text,\n",
    "            }\n",
    "            self.tabular_data = self.tabular_data.append(data_frame_row, ignore_index=True)\n",
    "    \n",
    "        \n",
    "    def _build_bearer_token(self, token):\n",
    "        return \"{0} {1}\".format(\"Bearer\", token)\n",
    "    \n",
    "    def _show_tabular_data(self):\n",
    "        return self.tabular_data\n",
    "    \n",
    "    def _get_json_for_tweets(self):\n",
    "        bearer_token = self._get_bearer_token()\n",
    "        authorization_header = self._build_bearer_token(bearer_token)\n",
    "        response = requests.get(self.tweets_url,\n",
    "                                headers={\"Authorization\":authorization_header}, params=self.tweets_url_params)\n",
    "        return json.loads(response.content)\n",
    "    \n",
    "    def call(self):\n",
    "        tweets_data = self._get_json_for_tweets()\n",
    "        while tweets_data:\n",
    "            self._handle_tweets(tweets_data)\n",
    "            self.tweets_url_params[\"page\"] += 1\n",
    "            tweets_data = self._get_json_for_tweets()\n",
    "        return self._show_tabular_data()"
   ]
  },
  {
   "cell_type": "code",
   "execution_count": 138,
   "metadata": {},
   "outputs": [
    {
     "ename": "NameError",
     "evalue": "name 'plt' is not defined",
     "output_type": "error",
     "traceback": [
      "\u001b[0;31m---------------------------------------------------------------------------\u001b[0m",
      "\u001b[0;31mNameError\u001b[0m                                 Traceback (most recent call last)",
      "\u001b[0;32m<ipython-input-138-c8937de90ae7>\u001b[0m in \u001b[0;36m<module>\u001b[0;34m\u001b[0m\n\u001b[1;32m      1\u001b[0m \u001b[0mobj\u001b[0m \u001b[0;34m=\u001b[0m \u001b[0mMidasTweetParser\u001b[0m\u001b[0;34m(\u001b[0m\u001b[0;34m)\u001b[0m\u001b[0;34m\u001b[0m\u001b[0m\n\u001b[1;32m      2\u001b[0m \u001b[0mobj\u001b[0m\u001b[0;34m.\u001b[0m\u001b[0mcall\u001b[0m\u001b[0;34m(\u001b[0m\u001b[0;34m)\u001b[0m\u001b[0;34m\u001b[0m\u001b[0m\n\u001b[0;32m----> 3\u001b[0;31m \u001b[0mf\u001b[0m \u001b[0;34m=\u001b[0m \u001b[0mplt\u001b[0m\u001b[0;34m.\u001b[0m\u001b[0mfigure\u001b[0m\u001b[0;34m(\u001b[0m\u001b[0;34m)\u001b[0m\u001b[0;34m\u001b[0m\u001b[0m\n\u001b[0m\u001b[1;32m      4\u001b[0m \u001b[0;34m\u001b[0m\u001b[0m\n\u001b[1;32m      5\u001b[0m \u001b[0mplt\u001b[0m\u001b[0;34m.\u001b[0m\u001b[0mtitle\u001b[0m\u001b[0;34m(\u001b[0m\u001b[0;34m'Title here!'\u001b[0m\u001b[0;34m,\u001b[0m \u001b[0mcolor\u001b[0m\u001b[0;34m=\u001b[0m\u001b[0;34m'black'\u001b[0m\u001b[0;34m)\u001b[0m\u001b[0;34m\u001b[0m\u001b[0m\n",
      "\u001b[0;31mNameError\u001b[0m: name 'plt' is not defined"
     ]
    }
   ],
   "source": [
    "obj = MidasTweetParser()\n",
    "obj.call()"
   ]
  },
  {
   "cell_type": "code",
   "execution_count": null,
   "metadata": {},
   "outputs": [],
   "source": []
  },
  {
   "cell_type": "code",
   "execution_count": 107,
   "metadata": {},
   "outputs": [],
   "source": [
    "from datetime import datetime\n",
    "\n",
    "datetime_object = datetime.strptime('Jun 1 2005  1:33PM', '%b %d %Y %I:%M%p')"
   ]
  },
  {
   "cell_type": "code",
   "execution_count": 108,
   "metadata": {},
   "outputs": [
    {
     "data": {
      "text/plain": [
       "datetime.datetime(2005, 6, 1, 13, 33)"
      ]
     },
     "execution_count": 108,
     "metadata": {},
     "output_type": "execute_result"
    }
   ],
   "source": [
    "datetime_object"
   ]
  },
  {
   "cell_type": "code",
   "execution_count": null,
   "metadata": {},
   "outputs": [],
   "source": []
  }
 ],
 "metadata": {
  "kernelspec": {
   "display_name": "Python 3",
   "language": "python",
   "name": "python3"
  },
  "language_info": {
   "codemirror_mode": {
    "name": "ipython",
    "version": 3
   },
   "file_extension": ".py",
   "mimetype": "text/x-python",
   "name": "python",
   "nbconvert_exporter": "python",
   "pygments_lexer": "ipython3",
   "version": "3.6.1"
  }
 },
 "nbformat": 4,
 "nbformat_minor": 2
}
