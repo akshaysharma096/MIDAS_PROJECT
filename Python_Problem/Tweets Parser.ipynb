{
 "cells": [
  {
   "cell_type": "markdown",
   "metadata": {},
   "source": [
    "# MIDAS INTERNSHIP PROJECT \n"
   ]
  },
  {
   "cell_type": "code",
   "execution_count": 12,
   "metadata": {},
   "outputs": [],
   "source": [
    "# Importing neccassary 3rd party as well in-built Python libraries\n",
    "import requests\n",
    "import collections\n",
    "import os\n",
    "import oauth2\n",
    "from requests.auth import HTTPBasicAuth\n",
    "import json\n",
    "import pandas as pd"
   ]
  },
  {
   "cell_type": "code",
   "execution_count": 3,
   "metadata": {},
   "outputs": [],
   "source": [
    "def initialise_auth_keys():\n",
    "    \"\"\"\n",
    "    return: tuple of auth credentials to use twitter tweets API\n",
    "    \"\"\"\n",
    "    return os.environ[\"TWITTER_ACCESS_TOKEN\"], os.environ[\"TWITTER_ACCESS_TOKEN_SECRET\"]"
   ]
  },
  {
   "cell_type": "code",
   "execution_count": 23,
   "metadata": {},
   "outputs": [],
   "source": [
    "class MidasTweetParser:\n",
    "    def __init__(self):\n",
    "        self.consumer_key = os.environ[\"TWITTER_ACCESS_TOKEN\"]\n",
    "        self.consumer_secret = os.environ[\"TWITTER_ACCESS_TOKEN_SECRET\"]\n",
    "        self.request_token_url = \"https://api.twitter.com/oauth2/token?grant_type=client_credentials\"\n",
    "        self.tweets_url = \"https://api.twitter.com/1.1/statuses/user_timeline.json\"\n",
    "        self.tweets_url_params = {\"screen_name\":\"midasiiitd\"}\n",
    "        self.tabular_data = pd.DataFrame([])\n",
    "    \n",
    "    def _get_bearer_token(self):\n",
    "        response = requests.post(self.request_token_url, auth=HTTPBasicAuth(self.consumer_key, self.consumer_secret))\n",
    "        response_data = json.loads(response.content.decode())\n",
    "        return response_data[\"access_token\"]\n",
    "\n",
    "    def _request_and_save_tweets(self):\n",
    "        bearer_token = self._get_bearer_token()\n",
    "        authorization_header = self._build_bearer_token(bearer_token)\n",
    "        \n",
    "    def _build_bearer_token(self, token):\n",
    "        return \"{0} {1}\".format(\"Bearer\", token)\n",
    "    \n",
    "    def _get_json_for_tweets(self):\n",
    "        bearer_token = self._get_bearer_token()\n",
    "        authorization_header = self._build_bearer_token(bearer_token)\n",
    "        response = requests.get(self.tweets_url,\n",
    "                                headers={\"Authorization\":authorization_header}, params=self.tweets_url_params)\n",
    "        return json.loads(response.content)\n",
    "    \n",
    "    def save_tweets(self):\n",
    "        tweets_data = self._get_json_for_tweets()"
   ]
  },
  {
   "cell_type": "code",
   "execution_count": 24,
   "metadata": {},
   "outputs": [],
   "source": [
    "obj = MidasTweetParser()"
   ]
  },
  {
   "cell_type": "code",
   "execution_count": 25,
   "metadata": {},
   "outputs": [
    {
     "data": {
      "text/html": [
       "<div>\n",
       "<style scoped>\n",
       "    .dataframe tbody tr th:only-of-type {\n",
       "        vertical-align: middle;\n",
       "    }\n",
       "\n",
       "    .dataframe tbody tr th {\n",
       "        vertical-align: top;\n",
       "    }\n",
       "\n",
       "    .dataframe thead th {\n",
       "        text-align: right;\n",
       "    }\n",
       "</style>\n",
       "<table border=\"1\" class=\"dataframe\">\n",
       "  <thead>\n",
       "    <tr style=\"text-align: right;\">\n",
       "      <th></th>\n",
       "      <th>a</th>\n",
       "    </tr>\n",
       "  </thead>\n",
       "  <tbody>\n",
       "    <tr>\n",
       "      <th>0</th>\n",
       "      <td>1</td>\n",
       "    </tr>\n",
       "  </tbody>\n",
       "</table>\n",
       "</div>"
      ],
      "text/plain": [
       "   a\n",
       "0  1"
      ]
     },
     "execution_count": 25,
     "metadata": {},
     "output_type": "execute_result"
    }
   ],
   "source": [
    "obj.tabular_data"
   ]
  },
  {
   "cell_type": "code",
   "execution_count": 13,
   "metadata": {},
   "outputs": [
    {
     "data": {
      "text/plain": [
       "<Response [400]>"
      ]
     },
     "execution_count": 13,
     "metadata": {},
     "output_type": "execute_result"
    }
   ],
   "source": []
  },
  {
   "cell_type": "code",
   "execution_count": 14,
   "metadata": {},
   "outputs": [
    {
     "ename": "NameError",
     "evalue": "name 's' is not defined",
     "output_type": "error",
     "traceback": [
      "\u001b[0;31m---------------------------------------------------------------------------\u001b[0m",
      "\u001b[0;31mNameError\u001b[0m                                 Traceback (most recent call last)",
      "\u001b[0;32m<ipython-input-14-b07472910409>\u001b[0m in \u001b[0;36m<module>\u001b[0;34m\u001b[0m\n\u001b[1;32m      1\u001b[0m \u001b[0;32mimport\u001b[0m \u001b[0mbase64\u001b[0m\u001b[0;34m\u001b[0m\u001b[0m\n\u001b[0;32m----> 2\u001b[0;31m \u001b[0mbase64\u001b[0m\u001b[0;34m.\u001b[0m\u001b[0mb64encode\u001b[0m\u001b[0;34m(\u001b[0m\u001b[0ms\u001b[0m\u001b[0;34m.\u001b[0m\u001b[0mencode\u001b[0m\u001b[0;34m(\u001b[0m\u001b[0;34m)\u001b[0m\u001b[0;34m)\u001b[0m\u001b[0;34m.\u001b[0m\u001b[0mdecode\u001b[0m\u001b[0;34m(\u001b[0m\u001b[0;34m)\u001b[0m\u001b[0;34m\u001b[0m\u001b[0m\n\u001b[0m",
      "\u001b[0;31mNameError\u001b[0m: name 's' is not defined"
     ]
    }
   ],
   "source": []
  },
  {
   "cell_type": "code",
   "execution_count": null,
   "metadata": {},
   "outputs": [],
   "source": []
  }
 ],
 "metadata": {
  "kernelspec": {
   "display_name": "Python 3",
   "language": "python",
   "name": "python3"
  },
  "language_info": {
   "codemirror_mode": {
    "name": "ipython",
    "version": 3
   },
   "file_extension": ".py",
   "mimetype": "text/x-python",
   "name": "python",
   "nbconvert_exporter": "python",
   "pygments_lexer": "ipython3",
   "version": "3.6.1"
  }
 },
 "nbformat": 4,
 "nbformat_minor": 2
}
